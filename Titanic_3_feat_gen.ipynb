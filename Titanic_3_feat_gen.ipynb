{
 "cells": [
  {
   "cell_type": "code",
   "execution_count": 1,
   "metadata": {},
   "outputs": [],
   "source": [
    "import numpy as np\n",
    "import pandas as pd\n",
    "import os\n",
    "import matplotlib as mpl\n",
    "import matplotlib.pyplot as plt"
   ]
  },
  {
   "cell_type": "code",
   "execution_count": 2,
   "metadata": {},
   "outputs": [],
   "source": [
    "f = r'C:\\Users\\lu.jin01\\OneDrive - Cardinal Health\\2.Jpt_code\\Geron2\\datasets\\titanic'"
   ]
  },
  {
   "cell_type": "code",
   "execution_count": 3,
   "metadata": {},
   "outputs": [],
   "source": [
    "# set pandas display options to show full table\n",
    "def set_pandas_display_options() -> None:\n",
    "    display = pd.options.display\n",
    "\n",
    "    display.max_columns = 1000\n",
    "    display.max_rows = 1000\n",
    "    display.max_colwidth = 199\n",
    "    display.width = None\n",
    "    # display.precision = 2  # set as needed\n",
    "\n",
    "set_pandas_display_options()"
   ]
  },
  {
   "cell_type": "code",
   "execution_count": 4,
   "metadata": {},
   "outputs": [
    {
     "name": "stdout",
     "output_type": "stream",
     "text": [
      "(891, 11) (418, 10)\n"
     ]
    }
   ],
   "source": [
    "try:\n",
    "    train = pd.read_csv(os.path.join(f,'train.csv'), index_col='PassengerId')\n",
    "    test = pd.read_csv(os.path.join(f,'test.csv'), index_col='PassengerId')\n",
    "except:\n",
    "    train = pd.read_csv(os.path.join('data','train.csv'), index_col='PassengerId')\n",
    "    test = pd.read_csv(os.path.join('data','test.csv'), index_col='PassengerId')\n",
    "print(train.shape,test.shape)"
   ]
  },
  {
   "cell_type": "markdown",
   "metadata": {},
   "source": [
    "The attributes have the following meaning:\n",
    "* **Survived**: that's the target, 0 means the passenger did not survive, while 1 means he/she survived.\n",
    "* **Pclass**: passenger class.\n",
    "* **Name**, **Sex**, **Age**: self-explanatory\n",
    "* **SibSp**: how many siblings & spouses of the passenger aboard the Titanic.\n",
    "* **Parch**: how many children & parents of the passenger aboard the Titanic.\n",
    "* **Ticket**: ticket id\n",
    "* **Fare**: price paid (in pounds)\n",
    "* **Cabin**: passenger's cabin number\n",
    "* **Embarked**: C = Cherbourg, Q = Queenstown, S = Southampton"
   ]
  },
  {
   "cell_type": "markdown",
   "metadata": {},
   "source": [
    "## 1. Data Exploration"
   ]
  },
  {
   "cell_type": "code",
   "execution_count": 5,
   "metadata": {},
   "outputs": [
    {
     "name": "stdout",
     "output_type": "stream",
     "text": [
      "<class 'pandas.core.frame.DataFrame'>\n",
      "Int64Index: 891 entries, 1 to 891\n",
      "Data columns (total 11 columns):\n",
      " #   Column    Non-Null Count  Dtype  \n",
      "---  ------    --------------  -----  \n",
      " 0   Survived  891 non-null    int64  \n",
      " 1   Pclass    891 non-null    int64  \n",
      " 2   Name      891 non-null    object \n",
      " 3   Sex       891 non-null    object \n",
      " 4   Age       714 non-null    float64\n",
      " 5   SibSp     891 non-null    int64  \n",
      " 6   Parch     891 non-null    int64  \n",
      " 7   Ticket    891 non-null    object \n",
      " 8   Fare      891 non-null    float64\n",
      " 9   Cabin     204 non-null    object \n",
      " 10  Embarked  889 non-null    object \n",
      "dtypes: float64(2), int64(4), object(5)\n",
      "memory usage: 83.5+ KB\n"
     ]
    }
   ],
   "source": [
    "train.info()"
   ]
  },
  {
   "cell_type": "markdown",
   "metadata": {},
   "source": [
    "**Cols having missing values: *Age, cabin, and Embarked***"
   ]
  },
  {
   "cell_type": "markdown",
   "metadata": {},
   "source": [
    "<br>"
   ]
  },
  {
   "cell_type": "code",
   "execution_count": 6,
   "metadata": {},
   "outputs": [
    {
     "data": {
      "text/plain": [
       "0    549\n",
       "1    342\n",
       "Name: Survived, dtype: int64"
      ]
     },
     "execution_count": 6,
     "metadata": {},
     "output_type": "execute_result"
    }
   ],
   "source": [
    "# check if classes are evenly distributed\n",
    "train.Survived.value_counts()"
   ]
  },
  {
   "cell_type": "code",
   "execution_count": 7,
   "metadata": {},
   "outputs": [
    {
     "data": {
      "text/html": [
       "<div>\n",
       "<style scoped>\n",
       "    .dataframe tbody tr th:only-of-type {\n",
       "        vertical-align: middle;\n",
       "    }\n",
       "\n",
       "    .dataframe tbody tr th {\n",
       "        vertical-align: top;\n",
       "    }\n",
       "\n",
       "    .dataframe thead th {\n",
       "        text-align: right;\n",
       "    }\n",
       "</style>\n",
       "<table border=\"1\" class=\"dataframe\">\n",
       "  <thead>\n",
       "    <tr style=\"text-align: right;\">\n",
       "      <th></th>\n",
       "      <th>Survived</th>\n",
       "      <th>Pclass</th>\n",
       "      <th>Name</th>\n",
       "      <th>Sex</th>\n",
       "      <th>Age</th>\n",
       "      <th>SibSp</th>\n",
       "      <th>Parch</th>\n",
       "      <th>Ticket</th>\n",
       "      <th>Fare</th>\n",
       "      <th>Cabin</th>\n",
       "      <th>Embarked</th>\n",
       "    </tr>\n",
       "    <tr>\n",
       "      <th>PassengerId</th>\n",
       "      <th></th>\n",
       "      <th></th>\n",
       "      <th></th>\n",
       "      <th></th>\n",
       "      <th></th>\n",
       "      <th></th>\n",
       "      <th></th>\n",
       "      <th></th>\n",
       "      <th></th>\n",
       "      <th></th>\n",
       "      <th></th>\n",
       "    </tr>\n",
       "  </thead>\n",
       "  <tbody>\n",
       "    <tr>\n",
       "      <th>6</th>\n",
       "      <td>0</td>\n",
       "      <td>3</td>\n",
       "      <td>Moran, Mr. James</td>\n",
       "      <td>male</td>\n",
       "      <td>NaN</td>\n",
       "      <td>0</td>\n",
       "      <td>0</td>\n",
       "      <td>330877</td>\n",
       "      <td>8.4583</td>\n",
       "      <td>NaN</td>\n",
       "      <td>Q</td>\n",
       "    </tr>\n",
       "    <tr>\n",
       "      <th>20</th>\n",
       "      <td>1</td>\n",
       "      <td>3</td>\n",
       "      <td>Masselmani, Mrs. Fatima</td>\n",
       "      <td>female</td>\n",
       "      <td>NaN</td>\n",
       "      <td>0</td>\n",
       "      <td>0</td>\n",
       "      <td>2649</td>\n",
       "      <td>7.2250</td>\n",
       "      <td>NaN</td>\n",
       "      <td>C</td>\n",
       "    </tr>\n",
       "    <tr>\n",
       "      <th>27</th>\n",
       "      <td>0</td>\n",
       "      <td>3</td>\n",
       "      <td>Emir, Mr. Farred Chehab</td>\n",
       "      <td>male</td>\n",
       "      <td>NaN</td>\n",
       "      <td>0</td>\n",
       "      <td>0</td>\n",
       "      <td>2631</td>\n",
       "      <td>7.2250</td>\n",
       "      <td>NaN</td>\n",
       "      <td>C</td>\n",
       "    </tr>\n",
       "    <tr>\n",
       "      <th>29</th>\n",
       "      <td>1</td>\n",
       "      <td>3</td>\n",
       "      <td>O'Dwyer, Miss. Ellen \"Nellie\"</td>\n",
       "      <td>female</td>\n",
       "      <td>NaN</td>\n",
       "      <td>0</td>\n",
       "      <td>0</td>\n",
       "      <td>330959</td>\n",
       "      <td>7.8792</td>\n",
       "      <td>NaN</td>\n",
       "      <td>Q</td>\n",
       "    </tr>\n",
       "    <tr>\n",
       "      <th>30</th>\n",
       "      <td>0</td>\n",
       "      <td>3</td>\n",
       "      <td>Todoroff, Mr. Lalio</td>\n",
       "      <td>male</td>\n",
       "      <td>NaN</td>\n",
       "      <td>0</td>\n",
       "      <td>0</td>\n",
       "      <td>349216</td>\n",
       "      <td>7.8958</td>\n",
       "      <td>NaN</td>\n",
       "      <td>S</td>\n",
       "    </tr>\n",
       "    <tr>\n",
       "      <th>33</th>\n",
       "      <td>1</td>\n",
       "      <td>3</td>\n",
       "      <td>Glynn, Miss. Mary Agatha</td>\n",
       "      <td>female</td>\n",
       "      <td>NaN</td>\n",
       "      <td>0</td>\n",
       "      <td>0</td>\n",
       "      <td>335677</td>\n",
       "      <td>7.7500</td>\n",
       "      <td>NaN</td>\n",
       "      <td>Q</td>\n",
       "    </tr>\n",
       "    <tr>\n",
       "      <th>37</th>\n",
       "      <td>1</td>\n",
       "      <td>3</td>\n",
       "      <td>Mamee, Mr. Hanna</td>\n",
       "      <td>male</td>\n",
       "      <td>NaN</td>\n",
       "      <td>0</td>\n",
       "      <td>0</td>\n",
       "      <td>2677</td>\n",
       "      <td>7.2292</td>\n",
       "      <td>NaN</td>\n",
       "      <td>C</td>\n",
       "    </tr>\n",
       "    <tr>\n",
       "      <th>43</th>\n",
       "      <td>0</td>\n",
       "      <td>3</td>\n",
       "      <td>Kraeff, Mr. Theodor</td>\n",
       "      <td>male</td>\n",
       "      <td>NaN</td>\n",
       "      <td>0</td>\n",
       "      <td>0</td>\n",
       "      <td>349253</td>\n",
       "      <td>7.8958</td>\n",
       "      <td>NaN</td>\n",
       "      <td>C</td>\n",
       "    </tr>\n",
       "    <tr>\n",
       "      <th>46</th>\n",
       "      <td>0</td>\n",
       "      <td>3</td>\n",
       "      <td>Rogers, Mr. William John</td>\n",
       "      <td>male</td>\n",
       "      <td>NaN</td>\n",
       "      <td>0</td>\n",
       "      <td>0</td>\n",
       "      <td>S.C./A.4. 23567</td>\n",
       "      <td>8.0500</td>\n",
       "      <td>NaN</td>\n",
       "      <td>S</td>\n",
       "    </tr>\n",
       "    <tr>\n",
       "      <th>47</th>\n",
       "      <td>0</td>\n",
       "      <td>3</td>\n",
       "      <td>Lennon, Mr. Denis</td>\n",
       "      <td>male</td>\n",
       "      <td>NaN</td>\n",
       "      <td>1</td>\n",
       "      <td>0</td>\n",
       "      <td>370371</td>\n",
       "      <td>15.5000</td>\n",
       "      <td>NaN</td>\n",
       "      <td>Q</td>\n",
       "    </tr>\n",
       "  </tbody>\n",
       "</table>\n",
       "</div>"
      ],
      "text/plain": [
       "             Survived  Pclass                           Name     Sex  Age  \\\n",
       "PassengerId                                                                 \n",
       "6                   0       3               Moran, Mr. James    male  NaN   \n",
       "20                  1       3        Masselmani, Mrs. Fatima  female  NaN   \n",
       "27                  0       3        Emir, Mr. Farred Chehab    male  NaN   \n",
       "29                  1       3  O'Dwyer, Miss. Ellen \"Nellie\"  female  NaN   \n",
       "30                  0       3            Todoroff, Mr. Lalio    male  NaN   \n",
       "33                  1       3       Glynn, Miss. Mary Agatha  female  NaN   \n",
       "37                  1       3               Mamee, Mr. Hanna    male  NaN   \n",
       "43                  0       3            Kraeff, Mr. Theodor    male  NaN   \n",
       "46                  0       3       Rogers, Mr. William John    male  NaN   \n",
       "47                  0       3              Lennon, Mr. Denis    male  NaN   \n",
       "\n",
       "             SibSp  Parch           Ticket     Fare Cabin Embarked  \n",
       "PassengerId                                                         \n",
       "6                0      0           330877   8.4583   NaN        Q  \n",
       "20               0      0             2649   7.2250   NaN        C  \n",
       "27               0      0             2631   7.2250   NaN        C  \n",
       "29               0      0           330959   7.8792   NaN        Q  \n",
       "30               0      0           349216   7.8958   NaN        S  \n",
       "33               0      0           335677   7.7500   NaN        Q  \n",
       "37               0      0             2677   7.2292   NaN        C  \n",
       "43               0      0           349253   7.8958   NaN        C  \n",
       "46               0      0  S.C./A.4. 23567   8.0500   NaN        S  \n",
       "47               1      0           370371  15.5000   NaN        Q  "
      ]
     },
     "execution_count": 7,
     "metadata": {},
     "output_type": "execute_result"
    }
   ],
   "source": [
    "# investigate age missing rows\n",
    "train[(train.Age.isna()) & (train.Pclass==3)].head(10)"
   ]
  },
  {
   "cell_type": "markdown",
   "metadata": {},
   "source": [
    "**Conclusion: no evidence of missing age due to child-fare**"
   ]
  },
  {
   "cell_type": "markdown",
   "metadata": {},
   "source": [
    "<br>"
   ]
  },
  {
   "cell_type": "code",
   "execution_count": 8,
   "metadata": {},
   "outputs": [
    {
     "data": {
      "text/html": [
       "<div>\n",
       "<style scoped>\n",
       "    .dataframe tbody tr th:only-of-type {\n",
       "        vertical-align: middle;\n",
       "    }\n",
       "\n",
       "    .dataframe tbody tr th {\n",
       "        vertical-align: top;\n",
       "    }\n",
       "\n",
       "    .dataframe thead th {\n",
       "        text-align: right;\n",
       "    }\n",
       "</style>\n",
       "<table border=\"1\" class=\"dataframe\">\n",
       "  <thead>\n",
       "    <tr style=\"text-align: right;\">\n",
       "      <th>Sex</th>\n",
       "      <th>female</th>\n",
       "      <th>male</th>\n",
       "    </tr>\n",
       "    <tr>\n",
       "      <th>Survived</th>\n",
       "      <th></th>\n",
       "      <th></th>\n",
       "    </tr>\n",
       "  </thead>\n",
       "  <tbody>\n",
       "    <tr>\n",
       "      <th>0</th>\n",
       "      <td>81</td>\n",
       "      <td>468</td>\n",
       "    </tr>\n",
       "    <tr>\n",
       "      <th>1</th>\n",
       "      <td>233</td>\n",
       "      <td>109</td>\n",
       "    </tr>\n",
       "  </tbody>\n",
       "</table>\n",
       "</div>"
      ],
      "text/plain": [
       "Sex       female  male\n",
       "Survived              \n",
       "0             81   468\n",
       "1            233   109"
      ]
     },
     "execution_count": 8,
     "metadata": {},
     "output_type": "execute_result"
    }
   ],
   "source": [
    "train.pivot_table('Name',columns='Sex',index='Survived',aggfunc='count')"
   ]
  },
  {
   "cell_type": "code",
   "execution_count": 9,
   "metadata": {},
   "outputs": [
    {
     "data": {
      "text/html": [
       "<div>\n",
       "<style scoped>\n",
       "    .dataframe tbody tr th:only-of-type {\n",
       "        vertical-align: middle;\n",
       "    }\n",
       "\n",
       "    .dataframe tbody tr th {\n",
       "        vertical-align: top;\n",
       "    }\n",
       "\n",
       "    .dataframe thead th {\n",
       "        text-align: right;\n",
       "    }\n",
       "</style>\n",
       "<table border=\"1\" class=\"dataframe\">\n",
       "  <thead>\n",
       "    <tr style=\"text-align: right;\">\n",
       "      <th>Embarked</th>\n",
       "      <th>C</th>\n",
       "      <th>Q</th>\n",
       "      <th>S</th>\n",
       "    </tr>\n",
       "    <tr>\n",
       "      <th>Survived</th>\n",
       "      <th></th>\n",
       "      <th></th>\n",
       "      <th></th>\n",
       "    </tr>\n",
       "  </thead>\n",
       "  <tbody>\n",
       "    <tr>\n",
       "      <th>0</th>\n",
       "      <td>75</td>\n",
       "      <td>47</td>\n",
       "      <td>427</td>\n",
       "    </tr>\n",
       "    <tr>\n",
       "      <th>1</th>\n",
       "      <td>93</td>\n",
       "      <td>30</td>\n",
       "      <td>217</td>\n",
       "    </tr>\n",
       "  </tbody>\n",
       "</table>\n",
       "</div>"
      ],
      "text/plain": [
       "Embarked   C   Q    S\n",
       "Survived             \n",
       "0         75  47  427\n",
       "1         93  30  217"
      ]
     },
     "execution_count": 9,
     "metadata": {},
     "output_type": "execute_result"
    }
   ],
   "source": [
    "train.pivot_table('Name',columns='Embarked',index='Survived',aggfunc='count')"
   ]
  },
  {
   "cell_type": "code",
   "execution_count": 10,
   "metadata": {},
   "outputs": [],
   "source": [
    "# explore.Ticket.value_counts()"
   ]
  },
  {
   "cell_type": "code",
   "execution_count": 11,
   "metadata": {},
   "outputs": [],
   "source": [
    "# explore.Ticket.astype(str)"
   ]
  },
  {
   "cell_type": "code",
   "execution_count": 12,
   "metadata": {},
   "outputs": [],
   "source": [
    "# explore[explore.Ticket.str.len()<7].sort_values(by='Ticket')"
   ]
  },
  {
   "cell_type": "code",
   "execution_count": 13,
   "metadata": {},
   "outputs": [
    {
     "data": {
      "text/html": [
       "<div>\n",
       "<style scoped>\n",
       "    .dataframe tbody tr th:only-of-type {\n",
       "        vertical-align: middle;\n",
       "    }\n",
       "\n",
       "    .dataframe tbody tr th {\n",
       "        vertical-align: top;\n",
       "    }\n",
       "\n",
       "    .dataframe thead th {\n",
       "        text-align: right;\n",
       "    }\n",
       "</style>\n",
       "<table border=\"1\" class=\"dataframe\">\n",
       "  <thead>\n",
       "    <tr style=\"text-align: right;\">\n",
       "      <th>Fare_int</th>\n",
       "      <th>0.0</th>\n",
       "      <th>10.0</th>\n",
       "      <th>20.0</th>\n",
       "      <th>30.0</th>\n",
       "      <th>40.0</th>\n",
       "      <th>50.0</th>\n",
       "      <th>60.0</th>\n",
       "      <th>70.0</th>\n",
       "      <th>80.0</th>\n",
       "      <th>90.0</th>\n",
       "      <th>110.0</th>\n",
       "      <th>120.0</th>\n",
       "      <th>130.0</th>\n",
       "      <th>140.0</th>\n",
       "      <th>150.0</th>\n",
       "      <th>160.0</th>\n",
       "      <th>210.0</th>\n",
       "      <th>220.0</th>\n",
       "      <th>230.0</th>\n",
       "      <th>250.0</th>\n",
       "      <th>260.0</th>\n",
       "      <th>510.0</th>\n",
       "    </tr>\n",
       "    <tr>\n",
       "      <th>Survived</th>\n",
       "      <th></th>\n",
       "      <th></th>\n",
       "      <th></th>\n",
       "      <th></th>\n",
       "      <th></th>\n",
       "      <th></th>\n",
       "      <th></th>\n",
       "      <th></th>\n",
       "      <th></th>\n",
       "      <th></th>\n",
       "      <th></th>\n",
       "      <th></th>\n",
       "      <th></th>\n",
       "      <th></th>\n",
       "      <th></th>\n",
       "      <th></th>\n",
       "      <th></th>\n",
       "      <th></th>\n",
       "      <th></th>\n",
       "      <th></th>\n",
       "      <th></th>\n",
       "      <th></th>\n",
       "    </tr>\n",
       "  </thead>\n",
       "  <tbody>\n",
       "    <tr>\n",
       "      <th>0</th>\n",
       "      <td>16.0</td>\n",
       "      <td>327.0</td>\n",
       "      <td>54.0</td>\n",
       "      <td>76.0</td>\n",
       "      <td>16.0</td>\n",
       "      <td>17.0</td>\n",
       "      <td>6.0</td>\n",
       "      <td>14.0</td>\n",
       "      <td>8.0</td>\n",
       "      <td>1.0</td>\n",
       "      <td>4.0</td>\n",
       "      <td>NaN</td>\n",
       "      <td>NaN</td>\n",
       "      <td>1.0</td>\n",
       "      <td>3.0</td>\n",
       "      <td>NaN</td>\n",
       "      <td>1.0</td>\n",
       "      <td>1.0</td>\n",
       "      <td>1.0</td>\n",
       "      <td>1.0</td>\n",
       "      <td>2.0</td>\n",
       "      <td>NaN</td>\n",
       "    </tr>\n",
       "    <tr>\n",
       "      <th>1</th>\n",
       "      <td>1.0</td>\n",
       "      <td>113.0</td>\n",
       "      <td>46.0</td>\n",
       "      <td>59.0</td>\n",
       "      <td>12.0</td>\n",
       "      <td>13.0</td>\n",
       "      <td>19.0</td>\n",
       "      <td>5.0</td>\n",
       "      <td>23.0</td>\n",
       "      <td>12.0</td>\n",
       "      <td>7.0</td>\n",
       "      <td>4.0</td>\n",
       "      <td>4.0</td>\n",
       "      <td>2.0</td>\n",
       "      <td>6.0</td>\n",
       "      <td>2.0</td>\n",
       "      <td>3.0</td>\n",
       "      <td>NaN</td>\n",
       "      <td>3.0</td>\n",
       "      <td>1.0</td>\n",
       "      <td>4.0</td>\n",
       "      <td>3.0</td>\n",
       "    </tr>\n",
       "  </tbody>\n",
       "</table>\n",
       "</div>"
      ],
      "text/plain": [
       "Fare_int  0.0    10.0   20.0   30.0   40.0   50.0   60.0   70.0   80.0   \\\n",
       "Survived                                                                  \n",
       "0          16.0  327.0   54.0   76.0   16.0   17.0    6.0   14.0    8.0   \n",
       "1           1.0  113.0   46.0   59.0   12.0   13.0   19.0    5.0   23.0   \n",
       "\n",
       "Fare_int  90.0   110.0  120.0  130.0  140.0  150.0  160.0  210.0  220.0  \\\n",
       "Survived                                                                  \n",
       "0           1.0    4.0    NaN    NaN    1.0    3.0    NaN    1.0    1.0   \n",
       "1          12.0    7.0    4.0    4.0    2.0    6.0    2.0    3.0    NaN   \n",
       "\n",
       "Fare_int  230.0  250.0  260.0  510.0  \n",
       "Survived                              \n",
       "0           1.0    1.0    2.0    NaN  \n",
       "1           3.0    1.0    4.0    3.0  "
      ]
     },
     "execution_count": 13,
     "metadata": {},
     "output_type": "execute_result"
    }
   ],
   "source": [
    "train['Fare_int'] = train.Fare.round(-1)\n",
    "test['Fare_int'] = test.Fare.round(-1)\n",
    "train.pivot_table('Name',columns='Fare_int',index='Survived',aggfunc='count')"
   ]
  },
  {
   "cell_type": "code",
   "execution_count": 14,
   "metadata": {},
   "outputs": [
    {
     "data": {
      "text/html": [
       "<div>\n",
       "<style scoped>\n",
       "    .dataframe tbody tr th:only-of-type {\n",
       "        vertical-align: middle;\n",
       "    }\n",
       "\n",
       "    .dataframe tbody tr th {\n",
       "        vertical-align: top;\n",
       "    }\n",
       "\n",
       "    .dataframe thead th {\n",
       "        text-align: right;\n",
       "    }\n",
       "</style>\n",
       "<table border=\"1\" class=\"dataframe\">\n",
       "  <thead>\n",
       "    <tr style=\"text-align: right;\">\n",
       "      <th></th>\n",
       "      <th>Age</th>\n",
       "    </tr>\n",
       "    <tr>\n",
       "      <th>Survived</th>\n",
       "      <th></th>\n",
       "    </tr>\n",
       "  </thead>\n",
       "  <tbody>\n",
       "    <tr>\n",
       "      <th>0</th>\n",
       "      <td>30.626179</td>\n",
       "    </tr>\n",
       "    <tr>\n",
       "      <th>1</th>\n",
       "      <td>28.343690</td>\n",
       "    </tr>\n",
       "  </tbody>\n",
       "</table>\n",
       "</div>"
      ],
      "text/plain": [
       "                Age\n",
       "Survived           \n",
       "0         30.626179\n",
       "1         28.343690"
      ]
     },
     "execution_count": 14,
     "metadata": {},
     "output_type": "execute_result"
    }
   ],
   "source": [
    "train.pivot_table('Age',index='Survived',aggfunc='mean')"
   ]
  },
  {
   "cell_type": "code",
   "execution_count": 15,
   "metadata": {},
   "outputs": [
    {
     "data": {
      "text/html": [
       "<div>\n",
       "<style scoped>\n",
       "    .dataframe tbody tr th:only-of-type {\n",
       "        vertical-align: middle;\n",
       "    }\n",
       "\n",
       "    .dataframe tbody tr th {\n",
       "        vertical-align: top;\n",
       "    }\n",
       "\n",
       "    .dataframe thead th {\n",
       "        text-align: right;\n",
       "    }\n",
       "</style>\n",
       "<table border=\"1\" class=\"dataframe\">\n",
       "  <thead>\n",
       "    <tr style=\"text-align: right;\">\n",
       "      <th></th>\n",
       "      <th>Survived</th>\n",
       "      <th>Pclass</th>\n",
       "      <th>Age</th>\n",
       "      <th>SibSp</th>\n",
       "      <th>Parch</th>\n",
       "      <th>Fare</th>\n",
       "      <th>Fare_int</th>\n",
       "    </tr>\n",
       "  </thead>\n",
       "  <tbody>\n",
       "    <tr>\n",
       "      <th>count</th>\n",
       "      <td>891.000000</td>\n",
       "      <td>891.000000</td>\n",
       "      <td>714.000000</td>\n",
       "      <td>891.000000</td>\n",
       "      <td>891.000000</td>\n",
       "      <td>891.000000</td>\n",
       "      <td>891.00000</td>\n",
       "    </tr>\n",
       "    <tr>\n",
       "      <th>mean</th>\n",
       "      <td>0.383838</td>\n",
       "      <td>2.308642</td>\n",
       "      <td>29.699118</td>\n",
       "      <td>0.523008</td>\n",
       "      <td>0.381594</td>\n",
       "      <td>32.204208</td>\n",
       "      <td>33.01908</td>\n",
       "    </tr>\n",
       "    <tr>\n",
       "      <th>std</th>\n",
       "      <td>0.486592</td>\n",
       "      <td>0.836071</td>\n",
       "      <td>14.526497</td>\n",
       "      <td>1.102743</td>\n",
       "      <td>0.806057</td>\n",
       "      <td>49.693429</td>\n",
       "      <td>49.25032</td>\n",
       "    </tr>\n",
       "    <tr>\n",
       "      <th>min</th>\n",
       "      <td>0.000000</td>\n",
       "      <td>1.000000</td>\n",
       "      <td>0.420000</td>\n",
       "      <td>0.000000</td>\n",
       "      <td>0.000000</td>\n",
       "      <td>0.000000</td>\n",
       "      <td>0.00000</td>\n",
       "    </tr>\n",
       "    <tr>\n",
       "      <th>25%</th>\n",
       "      <td>0.000000</td>\n",
       "      <td>2.000000</td>\n",
       "      <td>20.125000</td>\n",
       "      <td>0.000000</td>\n",
       "      <td>0.000000</td>\n",
       "      <td>7.910400</td>\n",
       "      <td>10.00000</td>\n",
       "    </tr>\n",
       "    <tr>\n",
       "      <th>50%</th>\n",
       "      <td>0.000000</td>\n",
       "      <td>3.000000</td>\n",
       "      <td>28.000000</td>\n",
       "      <td>0.000000</td>\n",
       "      <td>0.000000</td>\n",
       "      <td>14.454200</td>\n",
       "      <td>10.00000</td>\n",
       "    </tr>\n",
       "    <tr>\n",
       "      <th>75%</th>\n",
       "      <td>1.000000</td>\n",
       "      <td>3.000000</td>\n",
       "      <td>38.000000</td>\n",
       "      <td>1.000000</td>\n",
       "      <td>0.000000</td>\n",
       "      <td>31.000000</td>\n",
       "      <td>30.00000</td>\n",
       "    </tr>\n",
       "    <tr>\n",
       "      <th>max</th>\n",
       "      <td>1.000000</td>\n",
       "      <td>3.000000</td>\n",
       "      <td>80.000000</td>\n",
       "      <td>8.000000</td>\n",
       "      <td>6.000000</td>\n",
       "      <td>512.329200</td>\n",
       "      <td>510.00000</td>\n",
       "    </tr>\n",
       "  </tbody>\n",
       "</table>\n",
       "</div>"
      ],
      "text/plain": [
       "         Survived      Pclass         Age       SibSp       Parch        Fare  \\\n",
       "count  891.000000  891.000000  714.000000  891.000000  891.000000  891.000000   \n",
       "mean     0.383838    2.308642   29.699118    0.523008    0.381594   32.204208   \n",
       "std      0.486592    0.836071   14.526497    1.102743    0.806057   49.693429   \n",
       "min      0.000000    1.000000    0.420000    0.000000    0.000000    0.000000   \n",
       "25%      0.000000    2.000000   20.125000    0.000000    0.000000    7.910400   \n",
       "50%      0.000000    3.000000   28.000000    0.000000    0.000000   14.454200   \n",
       "75%      1.000000    3.000000   38.000000    1.000000    0.000000   31.000000   \n",
       "max      1.000000    3.000000   80.000000    8.000000    6.000000  512.329200   \n",
       "\n",
       "        Fare_int  \n",
       "count  891.00000  \n",
       "mean    33.01908  \n",
       "std     49.25032  \n",
       "min      0.00000  \n",
       "25%     10.00000  \n",
       "50%     10.00000  \n",
       "75%     30.00000  \n",
       "max    510.00000  "
      ]
     },
     "execution_count": 15,
     "metadata": {},
     "output_type": "execute_result"
    }
   ],
   "source": [
    "train.describe()"
   ]
  },
  {
   "cell_type": "code",
   "execution_count": 16,
   "metadata": {},
   "outputs": [
    {
     "data": {
      "image/png": "[encoded data removed]",
      "text/plain": [
       "<Figure size 1440x1080 with 9 Axes>"
      ]
     },
     "metadata": {
      "needs_background": "light"
     },
     "output_type": "display_data"
    }
   ],
   "source": [
    "train.hist(bins=30,figsize=(20,15))\n",
    "plt.show()"
   ]
  },
  {
   "cell_type": "markdown",
   "metadata": {},
   "source": [
    "## 2. Feature Engineering "
   ]
  },
  {
   "cell_type": "markdown",
   "metadata": {},
   "source": [
    ">**1. process name, sex, and age**"
   ]
  },
  {
   "cell_type": "code",
   "execution_count": 17,
   "metadata": {},
   "outputs": [],
   "source": [
    "# examine names\n",
    "noble = ['Duke.','Duchess.','Marquess.','Marchioness.','Lord.','Lady.','Earl.','Countess.','Honourable.',\n",
    "    'Viscount','Viscountess','Baron','Baroness','Knight.']\n",
    "Ms = ['Mrs.', 'Miss.']\n",
    "\n",
    "train['Noble'] = train['Name'].str.contains('|'.join(noble))\n",
    "test['Noble'] = test['Name'].str.contains('|'.join(noble))"
   ]
  },
  {
   "cell_type": "code",
   "execution_count": 18,
   "metadata": {},
   "outputs": [
    {
     "data": {
      "text/html": [
       "<div>\n",
       "<style scoped>\n",
       "    .dataframe tbody tr th:only-of-type {\n",
       "        vertical-align: middle;\n",
       "    }\n",
       "\n",
       "    .dataframe tbody tr th {\n",
       "        vertical-align: top;\n",
       "    }\n",
       "\n",
       "    .dataframe thead th {\n",
       "        text-align: right;\n",
       "    }\n",
       "</style>\n",
       "<table border=\"1\" class=\"dataframe\">\n",
       "  <thead>\n",
       "    <tr style=\"text-align: right;\">\n",
       "      <th>Noble</th>\n",
       "      <th>False</th>\n",
       "      <th>True</th>\n",
       "    </tr>\n",
       "    <tr>\n",
       "      <th>Survived</th>\n",
       "      <th></th>\n",
       "      <th></th>\n",
       "    </tr>\n",
       "  </thead>\n",
       "  <tbody>\n",
       "    <tr>\n",
       "      <th>0</th>\n",
       "      <td>548</td>\n",
       "      <td>1</td>\n",
       "    </tr>\n",
       "    <tr>\n",
       "      <th>1</th>\n",
       "      <td>340</td>\n",
       "      <td>2</td>\n",
       "    </tr>\n",
       "  </tbody>\n",
       "</table>\n",
       "</div>"
      ],
      "text/plain": [
       "Noble     False  True \n",
       "Survived              \n",
       "0           548      1\n",
       "1           340      2"
      ]
     },
     "execution_count": 18,
     "metadata": {},
     "output_type": "execute_result"
    }
   ],
   "source": [
    "train.pivot_table('Name',columns='Noble',index='Survived',aggfunc='count')"
   ]
  },
  {
   "cell_type": "markdown",
   "metadata": {},
   "source": [
    "**Noble not worth it**"
   ]
  },
  {
   "cell_type": "code",
   "execution_count": 19,
   "metadata": {},
   "outputs": [],
   "source": [
    "# combine sex and age features\n",
    "bins = [0,16,60,120]\n",
    "group_names = ['Young','Adult','Senior']\n",
    "train.loc[:,'Age_Group'] = pd.cut(train.Age, bins, labels=group_names)\n",
    "train.loc[:,'Sex-Age'] = train['Sex'] + train['Age_Group'].astype(str)\n",
    "\n",
    "test.loc[:,'Age_Group'] = pd.cut(test.Age, bins, labels=group_names)\n",
    "test.loc[:,'Sex-Age'] = test['Sex'] + test['Age_Group'].astype(str)"
   ]
  },
  {
   "cell_type": "markdown",
   "metadata": {},
   "source": [
    "> **2. Mean encoding**"
   ]
  },
  {
   "cell_type": "markdown",
   "metadata": {},
   "source": [
    "> 2.1 Cross Validation Regularizatoin"
   ]
  },
  {
   "cell_type": "code",
   "execution_count": 20,
   "metadata": {},
   "outputs": [
    {
     "data": {
      "text/plain": [
       "Survived       0\n",
       "Pclass         0\n",
       "Name           0\n",
       "Sex            0\n",
       "Age          177\n",
       "SibSp          0\n",
       "Parch          0\n",
       "Ticket         0\n",
       "Fare           0\n",
       "Cabin        687\n",
       "Embarked       2\n",
       "Fare_int       0\n",
       "Noble          0\n",
       "Age_Group    177\n",
       "Sex-Age        0\n",
       "dtype: int64"
      ]
     },
     "execution_count": 20,
     "metadata": {},
     "output_type": "execute_result"
    }
   ],
   "source": [
    "train.isna().sum()"
   ]
  },
  {
   "cell_type": "markdown",
   "metadata": {},
   "source": [
    "**only `Embarked` is fit for mean encoding**"
   ]
  },
  {
   "cell_type": "code",
   "execution_count": 21,
   "metadata": {},
   "outputs": [],
   "source": [
    "train['Cabin1'] = train.Cabin.str[0]\n",
    "test['Cabin1'] = test.Cabin.str[0]"
   ]
  },
  {
   "cell_type": "code",
   "execution_count": 22,
   "metadata": {},
   "outputs": [],
   "source": [
    "from sklearn.model_selection import KFold\n",
    "kf = KFold(n_splits=5, random_state=12, shuffle=True)\n",
    "\n",
    "me_feats = ['Embarked','Cabin1','Sex','Sex-Age']\n",
    "\n",
    "def make_mean_encoding(df, label, me_feats):\n",
    "    for col in me_feats:\n",
    "        df[col+'_me'] = df.groupby(col)[label].transform('mean')\n",
    "        df[col+'_me'].fillna(df[label].mean(), inplace=True)"
   ]
  },
  {
   "cell_type": "code",
   "execution_count": 23,
   "metadata": {},
   "outputs": [],
   "source": [
    "make_mean_encoding(train, 'Survived', me_feats)"
   ]
  },
  {
   "cell_type": "code",
   "execution_count": 24,
   "metadata": {},
   "outputs": [
    {
     "name": "stdout",
     "output_type": "stream",
     "text": [
      "CORR:  0.17\n"
     ]
    },
    {
     "data": {
      "text/plain": [
       "array([0.33695652, 0.55357143, 0.38961039, 0.38383838])"
      ]
     },
     "execution_count": 24,
     "metadata": {},
     "output_type": "execute_result"
    }
   ],
   "source": [
    "print('CORR: ', np.corrcoef(train['Survived'].values, train['Embarked_me'].values)[0][1].round(2))\n",
    "train['Embarked_me'].unique()"
   ]
  },
  {
   "cell_type": "code",
   "execution_count": 25,
   "metadata": {},
   "outputs": [
    {
     "name": "stdout",
     "output_type": "stream",
     "text": [
      "CORR: 0.33\n"
     ]
    },
    {
     "data": {
      "text/plain": [
       "array([0.38383838, 0.59322034, 0.75      , 0.5       , 0.75757576,\n",
       "       0.46666667, 0.74468085, 0.61538462, 0.        ])"
      ]
     },
     "execution_count": 25,
     "metadata": {},
     "output_type": "execute_result"
    }
   ],
   "source": [
    "print('CORR:', np.corrcoef(train['Survived'].values, train['Cabin1_me'].values)[0][1].round(2))\n",
    "train['Cabin1_me'].unique()"
   ]
  },
  {
   "cell_type": "code",
   "execution_count": 26,
   "metadata": {},
   "outputs": [
    {
     "name": "stdout",
     "output_type": "stream",
     "text": [
      "CORR: 0.54\n"
     ]
    },
    {
     "data": {
      "text/plain": [
       "array([0.18890815, 0.74203822])"
      ]
     },
     "execution_count": 26,
     "metadata": {},
     "output_type": "execute_result"
    }
   ],
   "source": [
    "print('CORR:', np.corrcoef(train['Survived'].values, train['Sex_me'].values)[0][1].round(2))\n",
    "train['Sex_me'].unique()"
   ]
  },
  {
   "cell_type": "markdown",
   "metadata": {},
   "source": [
    "> **2.2 Regularize using KFold**"
   ]
  },
  {
   "cell_type": "code",
   "execution_count": 27,
   "metadata": {},
   "outputs": [],
   "source": [
    "for col in me_feats:\n",
    "    train[col+'_me_cv'] = 0\n",
    "    for train_index, val_index in kf.split(train): # use cross-val index to reduce encoding results' correlation with target\n",
    "        train_train, train_val = train.iloc[train_index], train.iloc[val_index]\n",
    "        mean = train_val[col].map(train_train.groupby(col)['Survived'].mean())\n",
    "        train.iloc[val_index, train.columns.get_loc(col+'_me_cv')] = mean\n",
    "        train[col+'_me_cv'].fillna(train['Survived'].mean(), inplace=True)"
   ]
  },
  {
   "cell_type": "code",
   "execution_count": 28,
   "metadata": {},
   "outputs": [
    {
     "name": "stdout",
     "output_type": "stream",
     "text": [
      "CORR:  0.13\n"
     ]
    },
    {
     "data": {
      "text/plain": [
       "array([0.36170213, 0.52671756, 0.32156863, 0.32239382, 0.33846154,\n",
       "       0.45762712, 0.34050881, 0.40625   , 0.54545455, 0.39344262,\n",
       "       0.56934307, 0.33333333, 0.53787879, 0.58571429, 0.38383838,\n",
       "       0.36065574])"
      ]
     },
     "execution_count": 28,
     "metadata": {},
     "output_type": "execute_result"
    }
   ],
   "source": [
    "print('CORR: ', np.corrcoef(train['Survived'].values, train['Embarked_me_cv'].values)[0][1].round(2))\n",
    "train['Embarked_me_cv'].unique()"
   ]
  },
  {
   "cell_type": "code",
   "execution_count": 29,
   "metadata": {},
   "outputs": [
    {
     "name": "stdout",
     "output_type": "stream",
     "text": [
      "CORR: 0.3\n"
     ]
    },
    {
     "data": {
      "text/plain": [
       "array([0.38383838, 0.55555556, 0.58536585, 0.80769231, 0.5       ,\n",
       "       0.77777778, 0.42857143, 0.73684211, 0.7027027 , 0.60869565,\n",
       "       0.78378378, 0.66666667, 0.76      , 0.46153846, 0.7826087 ,\n",
       "       0.62      , 0.74358974, 0.6       , 0.54545455, 0.75675676,\n",
       "       0.70833333, 0.72413793, 0.75      , 0.73333333, 0.33333333,\n",
       "       0.58333333, 0.78571429])"
      ]
     },
     "execution_count": 29,
     "metadata": {},
     "output_type": "execute_result"
    }
   ],
   "source": [
    "print('CORR:', np.corrcoef(train['Survived'].values, train['Cabin1_me_cv'].values)[0][1].round(2))\n",
    "train['Cabin1_me_cv'].unique()"
   ]
  },
  {
   "cell_type": "code",
   "execution_count": 30,
   "metadata": {},
   "outputs": [
    {
     "name": "stdout",
     "output_type": "stream",
     "text": [
      "CORR: 0.54\n"
     ]
    },
    {
     "data": {
      "text/plain": [
       "array([0.18763797, 0.76153846, 0.72289157, 0.74380165, 0.19256018,\n",
       "       0.74297189, 0.19396552, 0.73828125, 0.17659574])"
      ]
     },
     "execution_count": 30,
     "metadata": {},
     "output_type": "execute_result"
    }
   ],
   "source": [
    "print('CORR:', np.corrcoef(train['Survived'].values, train['Sex_me_cv'].values)[0][1].round(2))\n",
    "train['Sex_me_cv'].unique()"
   ]
  },
  {
   "cell_type": "code",
   "execution_count": 31,
   "metadata": {},
   "outputs": [
    {
     "name": "stdout",
     "output_type": "stream",
     "text": [
      "CORR: 0.54\n"
     ]
    },
    {
     "data": {
      "text/plain": [
       "array([0.17056856, 0.78488372, 0.75776398, 0.75301205, 0.18456376,\n",
       "       0.13402062, 0.41860465, 0.73809524, 0.67567568, 0.78571429,\n",
       "       0.45      , 0.14423077, 0.69767442, 0.17363344, 0.64864865,\n",
       "       0.12903226, 0.63414634, 0.09708738, 0.18789809, 0.13333333,\n",
       "       0.76923077, 0.4047619 , 0.        , 0.18387097, 0.66666667,\n",
       "       0.63043478, 0.14285714, 0.14141414, 0.46153846, 0.425     ,\n",
       "       0.38383838, 0.6744186 , 0.11764706])"
      ]
     },
     "execution_count": 31,
     "metadata": {},
     "output_type": "execute_result"
    }
   ],
   "source": [
    "print('CORR:', np.corrcoef(train['Survived'].values, train['Sex-Age_me_cv'].values)[0][1].round(2))\n",
    "train['Sex-Age_me_cv'].unique()"
   ]
  },
  {
   "cell_type": "markdown",
   "metadata": {},
   "source": [
    "*conlusion: CV helps reduce on correlation slightly, but more so for weak-correlated features than strong one*"
   ]
  },
  {
   "cell_type": "markdown",
   "metadata": {},
   "source": [
    "> **2.3 Regularize using Expanding mean**"
   ]
  },
  {
   "cell_type": "code",
   "execution_count": 32,
   "metadata": {},
   "outputs": [],
   "source": [
    "for feature in me_feats:\n",
    "    cum_sum = train.groupby(feature)['Survived'].cumsum() - train['Survived']\n",
    "    cum_count = train.groupby(feature).cumcount()\n",
    "\n",
    "    train[feature + '_me_expmean'] = cum_sum / cum_count\n",
    "    train[feature + '_me_expmean'].fillna(train['Survived'].mean(), inplace=True)"
   ]
  },
  {
   "cell_type": "code",
   "execution_count": 33,
   "metadata": {},
   "outputs": [
    {
     "name": "stdout",
     "output_type": "stream",
     "text": [
      "CORR of  Embarked  with target is:  0.04\n",
      "CORR of  Cabin1  with target is:  0.29\n",
      "CORR of  Sex  with target is:  0.54\n",
      "CORR of  Sex-Age  with target is:  0.54\n"
     ]
    }
   ],
   "source": [
    "for feat in me_feats:\n",
    "    # fill the first value with median\n",
    "    train[feat+'_me_expmean'].replace([np.inf,-np.inf], train[feat+'_me_expmean'].median(), inplace=True)\n",
    "    # calculate the correlation\n",
    "    print('CORR of ', feat, ' with target is: ', \n",
    "          np.corrcoef(train['Survived'].values, train[feat+'_me_expmean'].values)[0][1].round(2))"
   ]
  },
  {
   "cell_type": "markdown",
   "metadata": {},
   "source": [
    "*conlusion: Expanding Mean is more effective than CV on correlation reduction*"
   ]
  },
  {
   "cell_type": "markdown",
   "metadata": {},
   "source": [
    "> ##### mean Encode for testing"
   ]
  },
  {
   "cell_type": "code",
   "execution_count": 34,
   "metadata": {},
   "outputs": [],
   "source": [
    "# Create mean encoding for testing set using CV\n",
    "from sklearn import base\n",
    "\n",
    "class KFoldTargetEncoderTest(base.BaseEstimator, base.TransformerMixin):\n",
    "    \n",
    "    def __init__(self,train,orig_cols,enc_cols):\n",
    "        \n",
    "        self.train = train\n",
    "        self.orig_cols = orig_cols\n",
    "        self.enc_cols = enc_cols\n",
    "        \n",
    "    def fit(self, X, y=None):\n",
    "        return self\n",
    "    \n",
    "    def transform(self,X):\n",
    "        assert(isinstance(self.orig_cols,list))\n",
    "        assert(isinstance(self.enc_cols,list))\n",
    "        enc_cols_lis = []\n",
    "        for orig_col, enc_col in zip(self.orig_cols, self.enc_cols):\n",
    "            mean =  self.train.groupby(orig_col)[enc_col].mean()\n",
    "            X[enc_col] = X[orig_col].map(mean)\n",
    "        enc_cols_lis.append(X)\n",
    "        return pd.concat(enc_cols_lis,axis=1)"
   ]
  },
  {
   "cell_type": "code",
   "execution_count": 35,
   "metadata": {},
   "outputs": [
    {
     "data": {
      "text/html": [
       "<div>\n",
       "<style scoped>\n",
       "    .dataframe tbody tr th:only-of-type {\n",
       "        vertical-align: middle;\n",
       "    }\n",
       "\n",
       "    .dataframe tbody tr th {\n",
       "        vertical-align: top;\n",
       "    }\n",
       "\n",
       "    .dataframe thead th {\n",
       "        text-align: right;\n",
       "    }\n",
       "</style>\n",
       "<table border=\"1\" class=\"dataframe\">\n",
       "  <thead>\n",
       "    <tr style=\"text-align: right;\">\n",
       "      <th></th>\n",
       "      <th>Survived</th>\n",
       "      <th>Pclass</th>\n",
       "      <th>Name</th>\n",
       "      <th>Sex</th>\n",
       "      <th>Age</th>\n",
       "      <th>SibSp</th>\n",
       "      <th>Parch</th>\n",
       "      <th>Ticket</th>\n",
       "      <th>Fare</th>\n",
       "      <th>Cabin</th>\n",
       "      <th>Embarked</th>\n",
       "      <th>Fare_int</th>\n",
       "      <th>Noble</th>\n",
       "      <th>Age_Group</th>\n",
       "      <th>Sex-Age</th>\n",
       "      <th>Cabin1</th>\n",
       "      <th>Embarked_me</th>\n",
       "      <th>Cabin1_me</th>\n",
       "      <th>Sex_me</th>\n",
       "      <th>Sex-Age_me</th>\n",
       "      <th>Embarked_me_cv</th>\n",
       "      <th>Cabin1_me_cv</th>\n",
       "      <th>Sex_me_cv</th>\n",
       "      <th>Sex-Age_me_cv</th>\n",
       "      <th>Embarked_me_expmean</th>\n",
       "      <th>Cabin1_me_expmean</th>\n",
       "      <th>Sex_me_expmean</th>\n",
       "      <th>Sex-Age_me_expmean</th>\n",
       "    </tr>\n",
       "    <tr>\n",
       "      <th>PassengerId</th>\n",
       "      <th></th>\n",
       "      <th></th>\n",
       "      <th></th>\n",
       "      <th></th>\n",
       "      <th></th>\n",
       "      <th></th>\n",
       "      <th></th>\n",
       "      <th></th>\n",
       "      <th></th>\n",
       "      <th></th>\n",
       "      <th></th>\n",
       "      <th></th>\n",
       "      <th></th>\n",
       "      <th></th>\n",
       "      <th></th>\n",
       "      <th></th>\n",
       "      <th></th>\n",
       "      <th></th>\n",
       "      <th></th>\n",
       "      <th></th>\n",
       "      <th></th>\n",
       "      <th></th>\n",
       "      <th></th>\n",
       "      <th></th>\n",
       "      <th></th>\n",
       "      <th></th>\n",
       "      <th></th>\n",
       "      <th></th>\n",
       "    </tr>\n",
       "  </thead>\n",
       "  <tbody>\n",
       "    <tr>\n",
       "      <th>1</th>\n",
       "      <td>0</td>\n",
       "      <td>3</td>\n",
       "      <td>Braund, Mr. Owen Harris</td>\n",
       "      <td>male</td>\n",
       "      <td>22.0</td>\n",
       "      <td>1</td>\n",
       "      <td>0</td>\n",
       "      <td>A/5 21171</td>\n",
       "      <td>7.2500</td>\n",
       "      <td>NaN</td>\n",
       "      <td>S</td>\n",
       "      <td>10.0</td>\n",
       "      <td>False</td>\n",
       "      <td>Adult</td>\n",
       "      <td>maleAdult</td>\n",
       "      <td>NaN</td>\n",
       "      <td>0.336957</td>\n",
       "      <td>0.383838</td>\n",
       "      <td>0.188908</td>\n",
       "      <td>0.180157</td>\n",
       "      <td>0.361702</td>\n",
       "      <td>0.383838</td>\n",
       "      <td>0.187638</td>\n",
       "      <td>0.170569</td>\n",
       "      <td>0.383838</td>\n",
       "      <td>0.005405</td>\n",
       "      <td>0.383838</td>\n",
       "      <td>0.383838</td>\n",
       "    </tr>\n",
       "    <tr>\n",
       "      <th>2</th>\n",
       "      <td>1</td>\n",
       "      <td>1</td>\n",
       "      <td>Cumings, Mrs. John Bradley (Florence Briggs Thayer)</td>\n",
       "      <td>female</td>\n",
       "      <td>38.0</td>\n",
       "      <td>1</td>\n",
       "      <td>0</td>\n",
       "      <td>PC 17599</td>\n",
       "      <td>71.2833</td>\n",
       "      <td>C85</td>\n",
       "      <td>C</td>\n",
       "      <td>70.0</td>\n",
       "      <td>False</td>\n",
       "      <td>Adult</td>\n",
       "      <td>femaleAdult</td>\n",
       "      <td>C</td>\n",
       "      <td>0.553571</td>\n",
       "      <td>0.593220</td>\n",
       "      <td>0.742038</td>\n",
       "      <td>0.770335</td>\n",
       "      <td>0.526718</td>\n",
       "      <td>0.555556</td>\n",
       "      <td>0.761538</td>\n",
       "      <td>0.784884</td>\n",
       "      <td>0.383838</td>\n",
       "      <td>0.383838</td>\n",
       "      <td>0.383838</td>\n",
       "      <td>0.383838</td>\n",
       "    </tr>\n",
       "  </tbody>\n",
       "</table>\n",
       "</div>"
      ],
      "text/plain": [
       "             Survived  Pclass  \\\n",
       "PassengerId                     \n",
       "1                   0       3   \n",
       "2                   1       1   \n",
       "\n",
       "                                                            Name     Sex  \\\n",
       "PassengerId                                                                \n",
       "1                                        Braund, Mr. Owen Harris    male   \n",
       "2            Cumings, Mrs. John Bradley (Florence Briggs Thayer)  female   \n",
       "\n",
       "              Age  SibSp  Parch     Ticket     Fare Cabin Embarked  Fare_int  \\\n",
       "PassengerId                                                                    \n",
       "1            22.0      1      0  A/5 21171   7.2500   NaN        S      10.0   \n",
       "2            38.0      1      0   PC 17599  71.2833   C85        C      70.0   \n",
       "\n",
       "             Noble Age_Group      Sex-Age Cabin1  Embarked_me  Cabin1_me  \\\n",
       "PassengerId                                                                \n",
       "1            False     Adult    maleAdult    NaN     0.336957   0.383838   \n",
       "2            False     Adult  femaleAdult      C     0.553571   0.593220   \n",
       "\n",
       "               Sex_me  Sex-Age_me  Embarked_me_cv  Cabin1_me_cv  Sex_me_cv  \\\n",
       "PassengerId                                                                  \n",
       "1            0.188908    0.180157        0.361702      0.383838   0.187638   \n",
       "2            0.742038    0.770335        0.526718      0.555556   0.761538   \n",
       "\n",
       "             Sex-Age_me_cv  Embarked_me_expmean  Cabin1_me_expmean  \\\n",
       "PassengerId                                                          \n",
       "1                 0.170569             0.383838           0.005405   \n",
       "2                 0.784884             0.383838           0.383838   \n",
       "\n",
       "             Sex_me_expmean  Sex-Age_me_expmean  \n",
       "PassengerId                                      \n",
       "1                  0.383838            0.383838  \n",
       "2                  0.383838            0.383838  "
      ]
     },
     "execution_count": 35,
     "metadata": {},
     "output_type": "execute_result"
    }
   ],
   "source": [
    "train.head(2)"
   ]
  },
  {
   "cell_type": "code",
   "execution_count": 36,
   "metadata": {},
   "outputs": [
    {
     "data": {
      "text/plain": [
       "{'Cabin1_me',\n",
       " 'Cabin1_me_cv',\n",
       " 'Cabin1_me_expmean',\n",
       " 'Embarked_me',\n",
       " 'Embarked_me_cv',\n",
       " 'Embarked_me_expmean',\n",
       " 'Sex-Age_me',\n",
       " 'Sex-Age_me_cv',\n",
       " 'Sex-Age_me_expmean',\n",
       " 'Sex_me',\n",
       " 'Sex_me_cv',\n",
       " 'Sex_me_expmean',\n",
       " 'Survived'}"
      ]
     },
     "execution_count": 36,
     "metadata": {},
     "output_type": "execute_result"
    }
   ],
   "source": [
    "set(train.columns) - set(test.columns)"
   ]
  },
  {
   "cell_type": "code",
   "execution_count": 37,
   "metadata": {},
   "outputs": [],
   "source": [
    "test_me_feats = [feat + '_me_cv' for feat in me_feats]\n",
    "\n",
    "test_enc_model = KFoldTargetEncoderTest(train,me_feats,test_me_feats)\n",
    "test_enc_feats = test_enc_model.fit_transform(test)"
   ]
  },
  {
   "cell_type": "markdown",
   "metadata": {},
   "source": [
    "> **3. KNN encoding**"
   ]
  },
  {
   "cell_type": "code",
   "execution_count": 246,
   "metadata": {},
   "outputs": [],
   "source": [
    "from sklearn.base import BaseEstimator, ClassifierMixin\n",
    "from sklearn.neighbors import NearestNeighbors # Unsupervised learner for implementing neighbor searches\n",
    "\n",
    "class NearestNeighborsFeats(BaseEstimator, ClassifierMixin):\n",
    "    '''\n",
    "        This class should implement KNN features extraction,\n",
    "        The to-be-fitted data cannot contail null values, and must be normalized\n",
    "    '''\n",
    "    def __init__(self, n_jobs, k_list, metric, n_classes=None, n_neighbors=None, eps=1e-6):\n",
    "        self.n_jobs = n_jobs\n",
    "        self.k_list = k_list # list of K_neighbors candidates, e.g.: [2,3,4,5,...]\n",
    "        self.metric = metric\n",
    "        \n",
    "        if n_neighbors is None:\n",
    "            self.n_neighbors = max(k_list) \n",
    "        else:\n",
    "            self.n_neighbors = n_neighbors\n",
    "            \n",
    "        self.eps = eps        \n",
    "        self.n_classes_ = n_classes\n",
    "    \n",
    "    def fit(self, X, y):\n",
    "        '''\n",
    "            Set up the train set and self.NN object\n",
    "        '''\n",
    "        # Create a NearestNeighbors (NN) object. We will use it in `predict` function \n",
    "        self.NN = NearestNeighbors(n_neighbors=max(self.k_list), \n",
    "                                      metric=self.metric, \n",
    "                                      n_jobs=1, \n",
    "                                      algorithm='brute' if self.metric=='cosine' else 'auto')\n",
    "        self.NN.fit(X)\n",
    "        \n",
    "        # Store labels \n",
    "        self.y_train = y\n",
    "        \n",
    "        # Save how many target classes we have\n",
    "        self.n_classes = np.unique(y).shape[0] if self.n_classes_ is None else self.n_classes_\n",
    "        \n",
    "        \n",
    "    def predict(self, X):       \n",
    "        '''\n",
    "            Produces KNN features for every instance of X\n",
    "        '''\n",
    "        test_feats = []\n",
    "        \n",
    "        if self.n_jobs == 1:\n",
    "            cols = self.get_features_for_one(X[:1])[1]\n",
    "            for i in range(X.shape[0]): # iterate through all instances\n",
    "                test_feats.append(self.get_features_for_one(X[i:i+1])[0])\n",
    "                \n",
    "        else:\n",
    "            from multiprocessing import Pool\n",
    "            import os\n",
    "            if __name__ == '__main__':\n",
    "                with Pool(processes=self.n_jobs) as pool:\n",
    "                    # evaluate \"f(X)\" asynchronously\n",
    "                    res = pool.apply_async(self.get_features_for_one, X.shape[0])      # runs in *only* one process\n",
    "                    print(res.get(timeout=1))             # prints \"400\"\n",
    "\n",
    "                    # evaluate \"os.getpid()\" asynchronously\n",
    "                    res = pool.apply_async(os.getpid, ()) # runs in *only* one process\n",
    "                    print(res.get(timeout=1))             # prints the PID of that process\n",
    "\n",
    "                    # launching multiple evaluations asynchronously *may* use more processes\n",
    "                    multiple_results = [pool.apply_async(os.getpid, ()) for i in range(self.n_jobs)]\n",
    "                    print([res.get(timeout=1) for res in multiple_results])\n",
    "\n",
    "                    # make a single worker sleep for 10 secs\n",
    "                    res = pool.apply_async(time.sleep, (10,))\n",
    "                    try:\n",
    "                        print(res.get(timeout=1))\n",
    "                        results = [pool.apply(self.get_features_for_one, args=(X[i:i+1],))[0] for i in range(X.shape[0])]\n",
    "                        test_feats.append(results)\n",
    "                    except TimeoutError:\n",
    "                        print(\"We lacked patience and got a multiprocessing.TimeoutError\")\n",
    "                    \n",
    "            \n",
    "        return pd.DataFrame(np.vstack(test_feats), columns = cols)\n",
    "        \n",
    "        \n",
    "    def get_features_for_one(self, x):\n",
    "        '''\n",
    "            Computes KNN features for a single instance `x`\n",
    "        '''\n",
    "\n",
    "        NN_output = self.NN.kneighbors(x)\n",
    "        \n",
    "        # Vector of size `n_neighbors`\n",
    "        # Stores indices of the neighbors\n",
    "        neighs = NN_output[1][0]\n",
    "        \n",
    "        # Vector of size `n_neighbors`\n",
    "        # Stores distances to corresponding neighbors\n",
    "        neighs_dist = NN_output[0][0] \n",
    "\n",
    "        # Vector of size `n_neighbors`\n",
    "        # Stores labels of corresponding neighbors\n",
    "        \n",
    "        # stores the labels of corresponding neighbors\n",
    "        neighs_y = np.array(self.y_train)[neighs]\n",
    "#         import pdb; pdb.set_trace()\n",
    "    \n",
    "        # Eventually it will be a list of lists or np.arrays\n",
    "        # and we will use np.hstack to concatenate those\n",
    "        return_list = [] \n",
    "        colname_list = []\n",
    "        \n",
    "        \n",
    "        ''' \n",
    "            1. Fraction of instances of every class.\n",
    "               It is basically a KNNСlassifiers predictions.\n",
    "        '''\n",
    "        for k in self.k_list:\n",
    "            # YOUR CODE GOES HERE\n",
    "            label_counts = np.bincount(neighs_y[:k], minlength=self.n_classes) # e.g. 5_neighs, 3 are label_0, 2 are label_1 \n",
    "            feats = label_counts/label_counts.sum()\n",
    "            \n",
    "            assert len(feats) == self.n_classes\n",
    "            return_list += [feats]\n",
    "            for c in range(self.n_classes):\n",
    "                colname = str(k) + 'NN_Class' + str(c)\n",
    "                colname_list.append(colname)\n",
    "                \n",
    "        \n",
    "        '''\n",
    "            2. Same label streak: the largest number N, \n",
    "               such that N nearest neighbors have the same label.\n",
    "        '''\n",
    "        feats =  np.where(np.unique(neighs_y).size==1, neighs_y.size, np.argmin(np.array(neighs_y[:-1]==neighs_y[1:])) + 1)\n",
    " \n",
    "        assert feats.size == 1\n",
    "        return_list += [feats]\n",
    "        colname_list.append('Same_Label_Streak')\n",
    "        \n",
    "        \n",
    "        '''\n",
    "            3. Distances to closest instance of each class\n",
    "               Find the first instance of each class and take its distance as features.\n",
    "               \n",
    "               Distance = 999 if no neighboring instance of the some class, \n",
    "        '''\n",
    "        feats = []\n",
    "        for c in range(self.n_classes):\n",
    "            dis_array = neighs_dist[np.where(neighs_y==c)]\n",
    "            dis = 999 if dis_array.size==0 else dis_array[0] \n",
    "            feats.append(dis)\n",
    "            colname = 'Class' + str(c) + '_Min_Dist'\n",
    "            colname_list.append(colname)\n",
    "            \n",
    "        assert len(feats) == self.n_classes\n",
    "        return_list += [feats]\n",
    "        \n",
    "        \n",
    "        '''\n",
    "            4. Minimum *normalized* distance to objects of each class\n",
    "               As 3. but we normalize (divide) the distances\n",
    "               by the distance to the closest neighbor.\n",
    "               \n",
    "               If there are no neighboring objects of some classes, \n",
    "               Then set distance to that class to be 999.\n",
    "        '''\n",
    "        feats = []\n",
    "        for c in range(self.n_classes):\n",
    "            dis_array = neighs_dist[np.where(neighs_y==c)]\n",
    "            dis = 999 if dis_array.size==0 else dis_array[0] / (neighs_dist[0] + self.eps)\n",
    "            feats.append(dis)\n",
    "            colname = 'Norm_Class' + str(c) + '_Min_Dist'\n",
    "            colname_list.append(colname)\n",
    "            \n",
    "        assert len(feats) == self.n_classes\n",
    "        return_list += [feats]\n",
    "        \n",
    "    \n",
    "        '''\n",
    "            5. \n",
    "               5.1 Distance to Kth neighbor\n",
    "                   Think of this as of quantiles of a distribution\n",
    "               5.2 Distance to Kth neighbor normalized by \n",
    "                   distance to the first neighbor\n",
    "\n",
    "        '''\n",
    "        for k in self.k_list:\n",
    "            feat_51 = neighs_dist[k-1]\n",
    "            colname_51 = 'Dist_to_Neighbor_' + str(k)\n",
    "            feat_52 = neighs_dist[k-1] / (neighs_dist[0] + self.eps) # YOUR CODE GOES HERE\n",
    "            colname_52 = 'Norm_Dist_to_Neighbor_' + str(k)\n",
    "            \n",
    "            return_list += [[feat_51, feat_52]]\n",
    "            colname_list += [colname_51, colname_52]\n",
    "        \n",
    "        \n",
    "        '''\n",
    "            6. Mean distance to neighbors of each class for each K from `k_list` \n",
    "               For each class select the neighbors of that class among K nearest neighbors \n",
    "               and compute the average distance to those instances\n",
    "                   \n",
    "               If there are no objects of a certain class among K neighbors, set mean distance to 999\n",
    "        '''\n",
    "        for k in self.k_list:\n",
    "            mean_dist = np.bincount(neighs_y[:k], weights=neighs_dist[:k], minlength=self.n_classes) \\\n",
    "                    / (np.bincount(neighs_y[:k], minlength=self.n_classes) + self.eps)\n",
    "            feats = np.where(mean_dist==0, 999, mean_dist)\n",
    "            \n",
    "            assert len(feats) == self.n_classes\n",
    "            return_list += [feats]\n",
    "            \n",
    "            for c in range(self.n_classes):\n",
    "                colname = str(k) + 'NN_Class' + str(c) + '_Mean_Dist'\n",
    "                colname_list.append(colname)\n",
    "        \n",
    "        # merge\n",
    "        knn_feats = np.hstack(return_list)\n",
    "\n",
    "#         return pd.DataFrame(knn_feats, columns = colname_list.tolist())\n",
    "        return knn_feats, colname_list"
   ]
  },
  {
   "cell_type": "code",
   "execution_count": 319,
   "metadata": {},
   "outputs": [],
   "source": [
    "X, y = train.drop('Survived',axis=1), train['Survived']\n",
    "knn_cols = ['SibSp','Parch','Fare','Sex-Age_me_cv','Embarked_me_cv'] # non-null numeric value\n",
    "\n",
    "from sklearn.preprocessing import StandardScaler\n",
    "scaler = StandardScaler()\n",
    "X_nnf = scaler.fit_transform(X[knn_cols], y)"
   ]
  },
  {
   "cell_type": "code",
   "execution_count": 253,
   "metadata": {},
   "outputs": [],
   "source": [
    "# Create instance of our KNN feature extractor\n",
    "NNF = NearestNeighborsFeats(n_jobs=1, k_list=[3,4,5], metric='minkowski')\n",
    "\n",
    "# Fit on train set\n",
    "NNF.fit(X_nnf, y)\n",
    "\n",
    "# Get features for test\n",
    "knn_feats = NNF.predict(X_nnf)\n",
    "knn_feats.set_index(X.index, inplace=True)"
   ]
  },
  {
   "cell_type": "markdown",
   "metadata": {},
   "source": [
    "> get the KNN features for test"
   ]
  },
  {
   "cell_type": "code",
   "execution_count": 324,
   "metadata": {},
   "outputs": [
    {
     "data": {
      "text/plain": [
       "SibSp             0\n",
       "Parch             0\n",
       "Fare              1\n",
       "Sex-Age_me_cv     0\n",
       "Embarked_me_cv    0\n",
       "dtype: int64"
      ]
     },
     "execution_count": 324,
     "metadata": {},
     "output_type": "execute_result"
    }
   ],
   "source": [
    "X_test_nnf = test_enc_feats[knn_cols]\n",
    "X_test_nnf.isna().sum()"
   ]
  },
  {
   "cell_type": "code",
   "execution_count": 325,
   "metadata": {},
   "outputs": [
    {
     "data": {
      "text/plain": [
       "((418, 5), (418, 5), (418, 23))"
      ]
     },
     "execution_count": 325,
     "metadata": {},
     "output_type": "execute_result"
    }
   ],
   "source": [
    "X_test_nnf_nonull = X_test_nnf.fillna(method='ffill',axis=1)\n",
    "X_test_nnf_scaled = scaler.transform(X_test_nnf_nonull)\n",
    "X_test_nnf_final = NNF.predict(X_test_nnf_scaled)\n",
    "X_test_nnf_final.set_index(X_test_nnf.index, inplace=True)\n",
    "X_test_nnf.shape, X_test_nnf_scaled.shape, X_test_nnf_final.shape"
   ]
  },
  {
   "cell_type": "markdown",
   "metadata": {},
   "source": [
    "> 3. select features for training"
   ]
  },
  {
   "cell_type": "code",
   "execution_count": 326,
   "metadata": {},
   "outputs": [
    {
     "data": {
      "text/plain": [
       "((891, 8), (891, 31), (418, 8), (418, 31))"
      ]
     },
     "execution_count": 326,
     "metadata": {},
     "output_type": "execute_result"
    }
   ],
   "source": [
    "X_cols_keep = ['Pclass','Age','SibSp','Parch','Fare','Embarked_me_cv','Cabin1_me_cv','Sex_me_cv']\n",
    "X = train[X_cols_keep]\n",
    "X_test = test[X_cols_keep]\n",
    "\n",
    "X_MeanEnc_KnnFeats = pd.concat([X,knn_feats], axis=1)\n",
    "X_test_MeanEnc_KnnFeats = pd.concat([X_test,X_test_nnf_final], axis=1)\n",
    "X.shape, X_MeanEnc_KnnFeats.shape, X_test.shape, X_test_MeanEnc_KnnFeats.shape"
   ]
  },
  {
   "cell_type": "markdown",
   "metadata": {},
   "source": [
    "> 4. get the same encoding features for testing"
   ]
  },
  {
   "cell_type": "code",
   "execution_count": 272,
   "metadata": {},
   "outputs": [
    {
     "data": {
      "text/plain": [
       "((418, 8), (418, 31))"
      ]
     },
     "execution_count": 272,
     "metadata": {},
     "output_type": "execute_result"
    }
   ],
   "source": [
    "X_test = test[X_cols_keep]\n",
    "\n",
    "X_test_MeanEnc_KnnFeats = pd.concat([X_test,X_test_nnf_final], axis=1)\n",
    "X_test.shape, X_test_MeanEnc_KnnFeats.shape"
   ]
  },
  {
   "cell_type": "markdown",
   "metadata": {},
   "source": [
    "## 3. Training with GB Tree"
   ]
  },
  {
   "cell_type": "code",
   "execution_count": 273,
   "metadata": {},
   "outputs": [
    {
     "name": "stdout",
     "output_type": "stream",
     "text": [
      "[0]\tvalidation_0-error:0.06704\n",
      "Will train until validation_0-error hasn't improved in 4 rounds.\n",
      "[1]\tvalidation_0-error:0.07263\n",
      "[2]\tvalidation_0-error:0.06145\n",
      "[3]\tvalidation_0-error:0.06704\n",
      "[4]\tvalidation_0-error:0.05587\n",
      "[5]\tvalidation_0-error:0.06145\n",
      "[6]\tvalidation_0-error:0.06145\n",
      "[7]\tvalidation_0-error:0.05587\n",
      "[8]\tvalidation_0-error:0.05587\n",
      "Stopping. Best iteration:\n",
      "[4]\tvalidation_0-error:0.05587\n",
      "\n"
     ]
    },
    {
     "data": {
      "text/plain": [
       "0.9441"
      ]
     },
     "execution_count": 273,
     "metadata": {},
     "output_type": "execute_result"
    }
   ],
   "source": [
    "import xgboost\n",
    "xgb_clf = xgboost.XGBClassifier()\n",
    "\n",
    "from sklearn.model_selection import train_test_split\n",
    "X_train, X_val, y_train, y_val = train_test_split(X_MeanEnc_KnnFeats, y, test_size=0.2, random_state=15)\n",
    "xgb_clf.fit(X_train, y_train, eval_set=[(X_val, y_val)], early_stopping_rounds=4)\n",
    "\n",
    "from sklearn.metrics import accuracy_score\n",
    "accuracy_score(xgb_clf.predict(X_val), y_val).round(4)"
   ]
  },
  {
   "cell_type": "code",
   "execution_count": 274,
   "metadata": {},
   "outputs": [
    {
     "name": "stdout",
     "output_type": "stream",
     "text": [
      "0.9551\n"
     ]
    },
    {
     "data": {
      "text/plain": [
       "{'gamma': 1,\n",
       " 'learning_rate': 0.007510167663582358,\n",
       " 'max_depth': 3,\n",
       " 'n_estimators': 135}"
      ]
     },
     "execution_count": 274,
     "metadata": {},
     "output_type": "execute_result"
    }
   ],
   "source": [
    "from scipy import stats\n",
    "from sklearn.model_selection import RandomizedSearchCV\n",
    "xgb_params = {\n",
    "            'max_depth': [3,4,5],\n",
    "            'learning_rate':stats.reciprocal(0.005, 0.5),\n",
    "            'n_estimators':stats.randint(20, 230),\n",
    "            'gamma':[0, 0.5 ,1]\n",
    "         }\n",
    "\n",
    "random_tree = RandomizedSearchCV(xgb_clf, n_jobs=-1, param_distributions=xgb_params, \n",
    "                                 n_iter=300, cv=3, random_state=10)\n",
    "\n",
    "random_tree.fit(X_MeanEnc_KnnFeats, y)\n",
    "print(random_tree.best_score_.round(4))\n",
    "random_tree.best_params_"
   ]
  },
  {
   "cell_type": "code",
   "execution_count": 275,
   "metadata": {},
   "outputs": [
    {
     "name": "stdout",
     "output_type": "stream",
     "text": [
      "[0]\tvalidation_0-error:0.05028\n",
      "Will train until validation_0-error hasn't improved in 4 rounds.\n",
      "[1]\tvalidation_0-error:0.05028\n",
      "[2]\tvalidation_0-error:0.05028\n",
      "[3]\tvalidation_0-error:0.05028\n",
      "[4]\tvalidation_0-error:0.05028\n",
      "Stopping. Best iteration:\n",
      "[0]\tvalidation_0-error:0.05028\n",
      "\n"
     ]
    },
    {
     "data": {
      "text/plain": [
       "0.9497"
      ]
     },
     "execution_count": 275,
     "metadata": {},
     "output_type": "execute_result"
    }
   ],
   "source": [
    "random_tree.best_estimator_.fit(X_train, y_train, eval_set=[(X_val, y_val)], early_stopping_rounds=4)\n",
    "y_val_hat = random_tree.best_estimator_.predict(X_val)\n",
    "accuracy_score(y_val_hat, y_val).round(4)"
   ]
  },
  {
   "cell_type": "markdown",
   "metadata": {},
   "source": [
    "## 4. Examine Errors"
   ]
  },
  {
   "cell_type": "markdown",
   "metadata": {},
   "source": [
    "#### 4.1 Examined mislabelled val data"
   ]
  },
  {
   "cell_type": "code",
   "execution_count": 284,
   "metadata": {},
   "outputs": [
    {
     "data": {
      "text/plain": [
       "((0, 31), (9, 31))"
      ]
     },
     "execution_count": 284,
     "metadata": {},
     "output_type": "execute_result"
    }
   ],
   "source": [
    "# false positive\n",
    "FP_idx = y_val[(y_val_hat == 1)&(y_val==0)].index\n",
    "FP = X_MeanEnc_KnnFeats.loc[FP_idx]\n",
    "# false negative\n",
    "FN_idx = y_val[(y_val_hat == 0)&(y_val==1)].index\n",
    "FN = X_MeanEnc_KnnFeats.loc[FN_idx]\n",
    "FN_original = train.loc[FN_idx]\n",
    "\n",
    "FP.shape, FN.shape"
   ]
  },
  {
   "cell_type": "code",
   "execution_count": 286,
   "metadata": {},
   "outputs": [
    {
     "data": {
      "text/html": [
       "<div>\n",
       "<style scoped>\n",
       "    .dataframe tbody tr th:only-of-type {\n",
       "        vertical-align: middle;\n",
       "    }\n",
       "\n",
       "    .dataframe tbody tr th {\n",
       "        vertical-align: top;\n",
       "    }\n",
       "\n",
       "    .dataframe thead th {\n",
       "        text-align: right;\n",
       "    }\n",
       "</style>\n",
       "<table border=\"1\" class=\"dataframe\">\n",
       "  <thead>\n",
       "    <tr style=\"text-align: right;\">\n",
       "      <th></th>\n",
       "      <th>Survived</th>\n",
       "      <th>Pclass</th>\n",
       "      <th>Name</th>\n",
       "      <th>Sex</th>\n",
       "      <th>Age</th>\n",
       "      <th>SibSp</th>\n",
       "      <th>Parch</th>\n",
       "      <th>Ticket</th>\n",
       "      <th>Fare</th>\n",
       "      <th>Cabin</th>\n",
       "      <th>Embarked</th>\n",
       "      <th>Fare_int</th>\n",
       "      <th>Noble</th>\n",
       "      <th>Age_Group</th>\n",
       "      <th>Sex-Age</th>\n",
       "      <th>Cabin1</th>\n",
       "      <th>Embarked_me</th>\n",
       "      <th>Cabin1_me</th>\n",
       "      <th>Sex_me</th>\n",
       "      <th>Sex-Age_me</th>\n",
       "      <th>Embarked_me_cv</th>\n",
       "      <th>Cabin1_me_cv</th>\n",
       "      <th>Sex_me_cv</th>\n",
       "      <th>Sex-Age_me_cv</th>\n",
       "      <th>Embarked_me_expmean</th>\n",
       "      <th>Cabin1_me_expmean</th>\n",
       "      <th>Sex_me_expmean</th>\n",
       "      <th>Sex-Age_me_expmean</th>\n",
       "    </tr>\n",
       "    <tr>\n",
       "      <th>PassengerId</th>\n",
       "      <th></th>\n",
       "      <th></th>\n",
       "      <th></th>\n",
       "      <th></th>\n",
       "      <th></th>\n",
       "      <th></th>\n",
       "      <th></th>\n",
       "      <th></th>\n",
       "      <th></th>\n",
       "      <th></th>\n",
       "      <th></th>\n",
       "      <th></th>\n",
       "      <th></th>\n",
       "      <th></th>\n",
       "      <th></th>\n",
       "      <th></th>\n",
       "      <th></th>\n",
       "      <th></th>\n",
       "      <th></th>\n",
       "      <th></th>\n",
       "      <th></th>\n",
       "      <th></th>\n",
       "      <th></th>\n",
       "      <th></th>\n",
       "      <th></th>\n",
       "      <th></th>\n",
       "      <th></th>\n",
       "      <th></th>\n",
       "    </tr>\n",
       "  </thead>\n",
       "  <tbody>\n",
       "    <tr>\n",
       "      <th>459</th>\n",
       "      <td>1</td>\n",
       "      <td>2</td>\n",
       "      <td>Toomey, Miss. Ellen</td>\n",
       "      <td>female</td>\n",
       "      <td>50.0</td>\n",
       "      <td>0</td>\n",
       "      <td>0</td>\n",
       "      <td>F.C.C. 13531</td>\n",
       "      <td>10.5000</td>\n",
       "      <td>NaN</td>\n",
       "      <td>S</td>\n",
       "      <td>10.0</td>\n",
       "      <td>False</td>\n",
       "      <td>Adult</td>\n",
       "      <td>femaleAdult</td>\n",
       "      <td>NaN</td>\n",
       "      <td>0.336957</td>\n",
       "      <td>0.383838</td>\n",
       "      <td>0.742038</td>\n",
       "      <td>0.770335</td>\n",
       "      <td>0.321569</td>\n",
       "      <td>0.383838</td>\n",
       "      <td>0.722892</td>\n",
       "      <td>0.757764</td>\n",
       "      <td>0.346505</td>\n",
       "      <td>0.002817</td>\n",
       "      <td>0.752874</td>\n",
       "      <td>0.774775</td>\n",
       "    </tr>\n",
       "    <tr>\n",
       "      <th>388</th>\n",
       "      <td>1</td>\n",
       "      <td>2</td>\n",
       "      <td>Buss, Miss. Kate</td>\n",
       "      <td>female</td>\n",
       "      <td>36.0</td>\n",
       "      <td>0</td>\n",
       "      <td>0</td>\n",
       "      <td>27849</td>\n",
       "      <td>13.0000</td>\n",
       "      <td>NaN</td>\n",
       "      <td>S</td>\n",
       "      <td>10.0</td>\n",
       "      <td>False</td>\n",
       "      <td>Adult</td>\n",
       "      <td>femaleAdult</td>\n",
       "      <td>NaN</td>\n",
       "      <td>0.336957</td>\n",
       "      <td>0.383838</td>\n",
       "      <td>0.742038</td>\n",
       "      <td>0.770335</td>\n",
       "      <td>0.338462</td>\n",
       "      <td>0.383838</td>\n",
       "      <td>0.738281</td>\n",
       "      <td>0.769231</td>\n",
       "      <td>0.325926</td>\n",
       "      <td>0.003344</td>\n",
       "      <td>0.761905</td>\n",
       "      <td>0.782609</td>\n",
       "    </tr>\n",
       "    <tr>\n",
       "      <th>316</th>\n",
       "      <td>1</td>\n",
       "      <td>3</td>\n",
       "      <td>Nilsson, Miss. Helmina Josefina</td>\n",
       "      <td>female</td>\n",
       "      <td>26.0</td>\n",
       "      <td>0</td>\n",
       "      <td>0</td>\n",
       "      <td>347470</td>\n",
       "      <td>7.8542</td>\n",
       "      <td>NaN</td>\n",
       "      <td>S</td>\n",
       "      <td>10.0</td>\n",
       "      <td>False</td>\n",
       "      <td>Adult</td>\n",
       "      <td>femaleAdult</td>\n",
       "      <td>NaN</td>\n",
       "      <td>0.336957</td>\n",
       "      <td>0.383838</td>\n",
       "      <td>0.742038</td>\n",
       "      <td>0.770335</td>\n",
       "      <td>0.322394</td>\n",
       "      <td>0.383838</td>\n",
       "      <td>0.743802</td>\n",
       "      <td>0.753012</td>\n",
       "      <td>0.319820</td>\n",
       "      <td>0.004065</td>\n",
       "      <td>0.721739</td>\n",
       "      <td>0.746479</td>\n",
       "    </tr>\n",
       "    <tr>\n",
       "      <th>461</th>\n",
       "      <td>1</td>\n",
       "      <td>1</td>\n",
       "      <td>Anderson, Mr. Harry</td>\n",
       "      <td>male</td>\n",
       "      <td>48.0</td>\n",
       "      <td>0</td>\n",
       "      <td>0</td>\n",
       "      <td>19952</td>\n",
       "      <td>26.5500</td>\n",
       "      <td>E12</td>\n",
       "      <td>S</td>\n",
       "      <td>30.0</td>\n",
       "      <td>False</td>\n",
       "      <td>Adult</td>\n",
       "      <td>maleAdult</td>\n",
       "      <td>E</td>\n",
       "      <td>0.336957</td>\n",
       "      <td>0.750000</td>\n",
       "      <td>0.188908</td>\n",
       "      <td>0.180157</td>\n",
       "      <td>0.361702</td>\n",
       "      <td>0.807692</td>\n",
       "      <td>0.187638</td>\n",
       "      <td>0.170569</td>\n",
       "      <td>0.348485</td>\n",
       "      <td>0.642857</td>\n",
       "      <td>0.178947</td>\n",
       "      <td>0.163158</td>\n",
       "    </tr>\n",
       "    <tr>\n",
       "      <th>608</th>\n",
       "      <td>1</td>\n",
       "      <td>1</td>\n",
       "      <td>Daniel, Mr. Robert Williams</td>\n",
       "      <td>male</td>\n",
       "      <td>27.0</td>\n",
       "      <td>0</td>\n",
       "      <td>0</td>\n",
       "      <td>113804</td>\n",
       "      <td>30.5000</td>\n",
       "      <td>NaN</td>\n",
       "      <td>S</td>\n",
       "      <td>30.0</td>\n",
       "      <td>False</td>\n",
       "      <td>Adult</td>\n",
       "      <td>maleAdult</td>\n",
       "      <td>NaN</td>\n",
       "      <td>0.336957</td>\n",
       "      <td>0.383838</td>\n",
       "      <td>0.188908</td>\n",
       "      <td>0.180157</td>\n",
       "      <td>0.338462</td>\n",
       "      <td>0.383838</td>\n",
       "      <td>0.192560</td>\n",
       "      <td>0.184564</td>\n",
       "      <td>0.345622</td>\n",
       "      <td>0.002128</td>\n",
       "      <td>0.182768</td>\n",
       "      <td>0.178571</td>\n",
       "    </tr>\n",
       "    <tr>\n",
       "      <th>289</th>\n",
       "      <td>1</td>\n",
       "      <td>2</td>\n",
       "      <td>Hosono, Mr. Masabumi</td>\n",
       "      <td>male</td>\n",
       "      <td>42.0</td>\n",
       "      <td>0</td>\n",
       "      <td>0</td>\n",
       "      <td>237798</td>\n",
       "      <td>13.0000</td>\n",
       "      <td>NaN</td>\n",
       "      <td>S</td>\n",
       "      <td>10.0</td>\n",
       "      <td>False</td>\n",
       "      <td>Adult</td>\n",
       "      <td>maleAdult</td>\n",
       "      <td>NaN</td>\n",
       "      <td>0.336957</td>\n",
       "      <td>0.383838</td>\n",
       "      <td>0.188908</td>\n",
       "      <td>0.180157</td>\n",
       "      <td>0.338462</td>\n",
       "      <td>0.383838</td>\n",
       "      <td>0.192560</td>\n",
       "      <td>0.184564</td>\n",
       "      <td>0.319048</td>\n",
       "      <td>0.004348</td>\n",
       "      <td>0.160428</td>\n",
       "      <td>0.145161</td>\n",
       "    </tr>\n",
       "    <tr>\n",
       "      <th>571</th>\n",
       "      <td>1</td>\n",
       "      <td>2</td>\n",
       "      <td>Harris, Mr. George</td>\n",
       "      <td>male</td>\n",
       "      <td>62.0</td>\n",
       "      <td>0</td>\n",
       "      <td>0</td>\n",
       "      <td>S.W./PP 752</td>\n",
       "      <td>10.5000</td>\n",
       "      <td>NaN</td>\n",
       "      <td>S</td>\n",
       "      <td>10.0</td>\n",
       "      <td>False</td>\n",
       "      <td>Senior</td>\n",
       "      <td>maleSenior</td>\n",
       "      <td>NaN</td>\n",
       "      <td>0.336957</td>\n",
       "      <td>0.383838</td>\n",
       "      <td>0.188908</td>\n",
       "      <td>0.105263</td>\n",
       "      <td>0.321569</td>\n",
       "      <td>0.383838</td>\n",
       "      <td>0.193966</td>\n",
       "      <td>0.000000</td>\n",
       "      <td>0.343137</td>\n",
       "      <td>0.002262</td>\n",
       "      <td>0.178771</td>\n",
       "      <td>0.000000</td>\n",
       "    </tr>\n",
       "    <tr>\n",
       "      <th>227</th>\n",
       "      <td>1</td>\n",
       "      <td>2</td>\n",
       "      <td>Mellors, Mr. William John</td>\n",
       "      <td>male</td>\n",
       "      <td>19.0</td>\n",
       "      <td>0</td>\n",
       "      <td>0</td>\n",
       "      <td>SW/PP 751</td>\n",
       "      <td>10.5000</td>\n",
       "      <td>NaN</td>\n",
       "      <td>S</td>\n",
       "      <td>10.0</td>\n",
       "      <td>False</td>\n",
       "      <td>Adult</td>\n",
       "      <td>maleAdult</td>\n",
       "      <td>NaN</td>\n",
       "      <td>0.336957</td>\n",
       "      <td>0.383838</td>\n",
       "      <td>0.188908</td>\n",
       "      <td>0.180157</td>\n",
       "      <td>0.338462</td>\n",
       "      <td>0.383838</td>\n",
       "      <td>0.192560</td>\n",
       "      <td>0.184564</td>\n",
       "      <td>0.302469</td>\n",
       "      <td>0.005525</td>\n",
       "      <td>0.154362</td>\n",
       "      <td>0.123711</td>\n",
       "    </tr>\n",
       "    <tr>\n",
       "      <th>805</th>\n",
       "      <td>1</td>\n",
       "      <td>3</td>\n",
       "      <td>Hedman, Mr. Oskar Arvid</td>\n",
       "      <td>male</td>\n",
       "      <td>27.0</td>\n",
       "      <td>0</td>\n",
       "      <td>0</td>\n",
       "      <td>347089</td>\n",
       "      <td>6.9750</td>\n",
       "      <td>NaN</td>\n",
       "      <td>S</td>\n",
       "      <td>10.0</td>\n",
       "      <td>False</td>\n",
       "      <td>Adult</td>\n",
       "      <td>maleAdult</td>\n",
       "      <td>NaN</td>\n",
       "      <td>0.336957</td>\n",
       "      <td>0.383838</td>\n",
       "      <td>0.188908</td>\n",
       "      <td>0.180157</td>\n",
       "      <td>0.361702</td>\n",
       "      <td>0.383838</td>\n",
       "      <td>0.187638</td>\n",
       "      <td>0.170569</td>\n",
       "      <td>0.344828</td>\n",
       "      <td>0.001618</td>\n",
       "      <td>0.190385</td>\n",
       "      <td>0.185507</td>\n",
       "    </tr>\n",
       "  </tbody>\n",
       "</table>\n",
       "</div>"
      ],
      "text/plain": [
       "             Survived  Pclass                             Name     Sex   Age  \\\n",
       "PassengerId                                                                    \n",
       "459                 1       2              Toomey, Miss. Ellen  female  50.0   \n",
       "388                 1       2                 Buss, Miss. Kate  female  36.0   \n",
       "316                 1       3  Nilsson, Miss. Helmina Josefina  female  26.0   \n",
       "461                 1       1              Anderson, Mr. Harry    male  48.0   \n",
       "608                 1       1      Daniel, Mr. Robert Williams    male  27.0   \n",
       "289                 1       2             Hosono, Mr. Masabumi    male  42.0   \n",
       "571                 1       2               Harris, Mr. George    male  62.0   \n",
       "227                 1       2        Mellors, Mr. William John    male  19.0   \n",
       "805                 1       3          Hedman, Mr. Oskar Arvid    male  27.0   \n",
       "\n",
       "             SibSp  Parch        Ticket     Fare Cabin Embarked  Fare_int  \\\n",
       "PassengerId                                                                 \n",
       "459              0      0  F.C.C. 13531  10.5000   NaN        S      10.0   \n",
       "388              0      0         27849  13.0000   NaN        S      10.0   \n",
       "316              0      0        347470   7.8542   NaN        S      10.0   \n",
       "461              0      0         19952  26.5500   E12        S      30.0   \n",
       "608              0      0        113804  30.5000   NaN        S      30.0   \n",
       "289              0      0        237798  13.0000   NaN        S      10.0   \n",
       "571              0      0   S.W./PP 752  10.5000   NaN        S      10.0   \n",
       "227              0      0     SW/PP 751  10.5000   NaN        S      10.0   \n",
       "805              0      0        347089   6.9750   NaN        S      10.0   \n",
       "\n",
       "             Noble Age_Group      Sex-Age Cabin1  Embarked_me  Cabin1_me  \\\n",
       "PassengerId                                                                \n",
       "459          False     Adult  femaleAdult    NaN     0.336957   0.383838   \n",
       "388          False     Adult  femaleAdult    NaN     0.336957   0.383838   \n",
       "316          False     Adult  femaleAdult    NaN     0.336957   0.383838   \n",
       "461          False     Adult    maleAdult      E     0.336957   0.750000   \n",
       "608          False     Adult    maleAdult    NaN     0.336957   0.383838   \n",
       "289          False     Adult    maleAdult    NaN     0.336957   0.383838   \n",
       "571          False    Senior   maleSenior    NaN     0.336957   0.383838   \n",
       "227          False     Adult    maleAdult    NaN     0.336957   0.383838   \n",
       "805          False     Adult    maleAdult    NaN     0.336957   0.383838   \n",
       "\n",
       "               Sex_me  Sex-Age_me  Embarked_me_cv  Cabin1_me_cv  Sex_me_cv  \\\n",
       "PassengerId                                                                  \n",
       "459          0.742038    0.770335        0.321569      0.383838   0.722892   \n",
       "388          0.742038    0.770335        0.338462      0.383838   0.738281   \n",
       "316          0.742038    0.770335        0.322394      0.383838   0.743802   \n",
       "461          0.188908    0.180157        0.361702      0.807692   0.187638   \n",
       "608          0.188908    0.180157        0.338462      0.383838   0.192560   \n",
       "289          0.188908    0.180157        0.338462      0.383838   0.192560   \n",
       "571          0.188908    0.105263        0.321569      0.383838   0.193966   \n",
       "227          0.188908    0.180157        0.338462      0.383838   0.192560   \n",
       "805          0.188908    0.180157        0.361702      0.383838   0.187638   \n",
       "\n",
       "             Sex-Age_me_cv  Embarked_me_expmean  Cabin1_me_expmean  \\\n",
       "PassengerId                                                          \n",
       "459               0.757764             0.346505           0.002817   \n",
       "388               0.769231             0.325926           0.003344   \n",
       "316               0.753012             0.319820           0.004065   \n",
       "461               0.170569             0.348485           0.642857   \n",
       "608               0.184564             0.345622           0.002128   \n",
       "289               0.184564             0.319048           0.004348   \n",
       "571               0.000000             0.343137           0.002262   \n",
       "227               0.184564             0.302469           0.005525   \n",
       "805               0.170569             0.344828           0.001618   \n",
       "\n",
       "             Sex_me_expmean  Sex-Age_me_expmean  \n",
       "PassengerId                                      \n",
       "459                0.752874            0.774775  \n",
       "388                0.761905            0.782609  \n",
       "316                0.721739            0.746479  \n",
       "461                0.178947            0.163158  \n",
       "608                0.182768            0.178571  \n",
       "289                0.160428            0.145161  \n",
       "571                0.178771            0.000000  \n",
       "227                0.154362            0.123711  \n",
       "805                0.190385            0.185507  "
      ]
     },
     "execution_count": 286,
     "metadata": {},
     "output_type": "execute_result"
    }
   ],
   "source": [
    "# false negative\n",
    "FN_original.sort_values(['Sex','Pclass'])"
   ]
  },
  {
   "cell_type": "code",
   "execution_count": 311,
   "metadata": {},
   "outputs": [],
   "source": [
    "mybooster = random_tree.best_estimator_.get_booster()\n",
    "model_bytearray = mybooster.save_raw()[4:]\n",
    "def myfun(self=None):\n",
    "    return model_bytearray\n",
    "\n",
    "mybooster.save_raw = myfun\n",
    "\n",
    "import shap\n",
    "# explainer = shap.TreeExplainer(mybooster, X_train)\n",
    "# shap_values = explainer.shap_values(X_val)\n",
    "\n",
    "# # Look into Mr. Lee Ling ID_170\n",
    "# Lee_loc = y_val.index.get_loc(170)\n",
    "# shap.initjs() #initialize javascript in cell\n",
    "# shap.force_plot(explainer.expected_value, shap_values[Lee_loc], X_val[Lee_loc])"
   ]
  },
  {
   "cell_type": "markdown",
   "metadata": {},
   "source": [
    "#### 4.2 look at tree's feature importance"
   ]
  },
  {
   "cell_type": "markdown",
   "metadata": {},
   "source": [
    "##### 4.2.1 from tree purity reduction perspective"
   ]
  },
  {
   "cell_type": "code",
   "execution_count": 306,
   "metadata": {},
   "outputs": [
    {
     "name": "stdout",
     "output_type": "stream",
     "text": [
      "Class0_Min_Dist \t\t 0.8488141\n",
      "Class1_Min_Dist \t\t 0.08880609\n",
      "Dist_to_Neighbor_4 \t\t 0.010139376\n",
      "Sex_me_cv \t\t 0.0092712585\n",
      "Age \t\t 0.007814397\n",
      "4NN_Class0_Mean_Dist \t\t 0.0058119283\n",
      "Embarked_me_cv \t\t 0.0056972825\n",
      "Cabin1_me_cv \t\t 0.00505681\n",
      "\n",
      "\n",
      "Class0_Min_Dist \t\t 0.9273241\n",
      "Class1_Min_Dist \t\t 0.05946216\n",
      "Age \t\t 0.013213696\n",
      "Same_Label_Streak \t\t 0.0\n",
      "SibSp \t\t 0.0\n",
      "Parch \t\t 0.0\n",
      "Fare \t\t 0.0\n",
      "Embarked_me_cv \t\t 0.0\n",
      "\n",
      "\n"
     ]
    }
   ],
   "source": [
    "# examine feature importance\n",
    "models = [xgb_clf, random_tree.best_estimator_]\n",
    "top_n = 8\n",
    "\n",
    "for model in models:\n",
    "    top_importance = np.sort(model.feature_importances_)[::-1][:top_n]\n",
    "    top_indices = np.argsort(model.feature_importances_)[::-1][:top_n]\n",
    "    top_feats = np.array(X_MeanEnc_KnnFeats.columns)[top_indices]\n",
    "    \n",
    "    for feat, imp in zip(top_feats, top_importance):\n",
    "        print(feat, '\\t\\t', imp)\n",
    "    print('\\n')"
   ]
  },
  {
   "cell_type": "markdown",
   "metadata": {},
   "source": [
    "**Tip 1: distance of closest instance dominated the model**"
   ]
  },
  {
   "cell_type": "markdown",
   "metadata": {},
   "source": [
    "4.2.2 SHAP summary"
   ]
  },
  {
   "cell_type": "code",
   "execution_count": 309,
   "metadata": {},
   "outputs": [
    {
     "data": {
      "image/png": "[encoded data removed]",
      "text/plain": [
       "<Figure size 576x684 with 2 Axes>"
      ]
     },
     "metadata": {
      "needs_background": "light"
     },
     "output_type": "display_data"
    }
   ],
   "source": [
    "#A summary plot with the shapley value (feature importance) \n",
    "shap.summary_plot(shap_values, X_val)"
   ]
  },
  {
   "cell_type": "markdown",
   "metadata": {},
   "source": [
    "# apply model on test set"
   ]
  },
  {
   "cell_type": "code",
   "execution_count": 327,
   "metadata": {},
   "outputs": [
    {
     "data": {
      "text/html": [
       "<div>\n",
       "<style scoped>\n",
       "    .dataframe tbody tr th:only-of-type {\n",
       "        vertical-align: middle;\n",
       "    }\n",
       "\n",
       "    .dataframe tbody tr th {\n",
       "        vertical-align: top;\n",
       "    }\n",
       "\n",
       "    .dataframe thead th {\n",
       "        text-align: right;\n",
       "    }\n",
       "</style>\n",
       "<table border=\"1\" class=\"dataframe\">\n",
       "  <thead>\n",
       "    <tr style=\"text-align: right;\">\n",
       "      <th></th>\n",
       "      <th>Pclass</th>\n",
       "      <th>Age</th>\n",
       "      <th>SibSp</th>\n",
       "      <th>Parch</th>\n",
       "      <th>Fare</th>\n",
       "      <th>Embarked_me_cv</th>\n",
       "      <th>Cabin1_me_cv</th>\n",
       "      <th>Sex_me_cv</th>\n",
       "      <th>3NN_Class0</th>\n",
       "      <th>3NN_Class1</th>\n",
       "      <th>4NN_Class0</th>\n",
       "      <th>4NN_Class1</th>\n",
       "      <th>5NN_Class0</th>\n",
       "      <th>5NN_Class1</th>\n",
       "      <th>Same_Label_Streak</th>\n",
       "      <th>Class0_Min_Dist</th>\n",
       "      <th>Class1_Min_Dist</th>\n",
       "      <th>Norm_Class0_Min_Dist</th>\n",
       "      <th>Norm_Class1_Min_Dist</th>\n",
       "      <th>Dist_to_Neighbor_3</th>\n",
       "      <th>Norm_Dist_to_Neighbor_3</th>\n",
       "      <th>Dist_to_Neighbor_4</th>\n",
       "      <th>Norm_Dist_to_Neighbor_4</th>\n",
       "      <th>Dist_to_Neighbor_5</th>\n",
       "      <th>Norm_Dist_to_Neighbor_5</th>\n",
       "      <th>3NN_Class0_Mean_Dist</th>\n",
       "      <th>3NN_Class1_Mean_Dist</th>\n",
       "      <th>4NN_Class0_Mean_Dist</th>\n",
       "      <th>4NN_Class1_Mean_Dist</th>\n",
       "      <th>5NN_Class0_Mean_Dist</th>\n",
       "      <th>5NN_Class1_Mean_Dist</th>\n",
       "    </tr>\n",
       "    <tr>\n",
       "      <th>PassengerId</th>\n",
       "      <th></th>\n",
       "      <th></th>\n",
       "      <th></th>\n",
       "      <th></th>\n",
       "      <th></th>\n",
       "      <th></th>\n",
       "      <th></th>\n",
       "      <th></th>\n",
       "      <th></th>\n",
       "      <th></th>\n",
       "      <th></th>\n",
       "      <th></th>\n",
       "      <th></th>\n",
       "      <th></th>\n",
       "      <th></th>\n",
       "      <th></th>\n",
       "      <th></th>\n",
       "      <th></th>\n",
       "      <th></th>\n",
       "      <th></th>\n",
       "      <th></th>\n",
       "      <th></th>\n",
       "      <th></th>\n",
       "      <th></th>\n",
       "      <th></th>\n",
       "      <th></th>\n",
       "      <th></th>\n",
       "      <th></th>\n",
       "      <th></th>\n",
       "      <th></th>\n",
       "      <th></th>\n",
       "    </tr>\n",
       "  </thead>\n",
       "  <tbody>\n",
       "    <tr>\n",
       "      <th>892</th>\n",
       "      <td>3</td>\n",
       "      <td>34.5</td>\n",
       "      <td>0</td>\n",
       "      <td>0</td>\n",
       "      <td>7.8292</td>\n",
       "      <td>0.392867</td>\n",
       "      <td>NaN</td>\n",
       "      <td>0.189092</td>\n",
       "      <td>1.000000</td>\n",
       "      <td>0.000000</td>\n",
       "      <td>1.00</td>\n",
       "      <td>0.00</td>\n",
       "      <td>1.0</td>\n",
       "      <td>0.0</td>\n",
       "      <td>5.0</td>\n",
       "      <td>0.024066</td>\n",
       "      <td>999.000000</td>\n",
       "      <td>0.999958</td>\n",
       "      <td>999.000000</td>\n",
       "      <td>0.136093</td>\n",
       "      <td>5.654829</td>\n",
       "      <td>0.211221</td>\n",
       "      <td>8.776492</td>\n",
       "      <td>0.211221</td>\n",
       "      <td>8.776492</td>\n",
       "      <td>0.098751</td>\n",
       "      <td>999.000000</td>\n",
       "      <td>0.126868</td>\n",
       "      <td>999.000000</td>\n",
       "      <td>0.143739</td>\n",
       "      <td>999.000000</td>\n",
       "    </tr>\n",
       "    <tr>\n",
       "      <th>893</th>\n",
       "      <td>3</td>\n",
       "      <td>47.0</td>\n",
       "      <td>1</td>\n",
       "      <td>0</td>\n",
       "      <td>7.0000</td>\n",
       "      <td>0.336809</td>\n",
       "      <td>NaN</td>\n",
       "      <td>0.741332</td>\n",
       "      <td>1.000000</td>\n",
       "      <td>0.000000</td>\n",
       "      <td>0.75</td>\n",
       "      <td>0.25</td>\n",
       "      <td>0.6</td>\n",
       "      <td>0.4</td>\n",
       "      <td>3.0</td>\n",
       "      <td>0.060097</td>\n",
       "      <td>0.184585</td>\n",
       "      <td>0.999983</td>\n",
       "      <td>3.071384</td>\n",
       "      <td>0.152251</td>\n",
       "      <td>2.533369</td>\n",
       "      <td>0.184585</td>\n",
       "      <td>3.071384</td>\n",
       "      <td>0.222206</td>\n",
       "      <td>3.697384</td>\n",
       "      <td>0.096330</td>\n",
       "      <td>999.000000</td>\n",
       "      <td>0.096330</td>\n",
       "      <td>0.184585</td>\n",
       "      <td>0.096330</td>\n",
       "      <td>0.203395</td>\n",
       "    </tr>\n",
       "    <tr>\n",
       "      <th>894</th>\n",
       "      <td>2</td>\n",
       "      <td>62.0</td>\n",
       "      <td>0</td>\n",
       "      <td>0</td>\n",
       "      <td>9.6875</td>\n",
       "      <td>0.392867</td>\n",
       "      <td>NaN</td>\n",
       "      <td>0.189092</td>\n",
       "      <td>1.000000</td>\n",
       "      <td>0.000000</td>\n",
       "      <td>1.00</td>\n",
       "      <td>0.00</td>\n",
       "      <td>1.0</td>\n",
       "      <td>0.0</td>\n",
       "      <td>5.0</td>\n",
       "      <td>0.080530</td>\n",
       "      <td>999.000000</td>\n",
       "      <td>0.999988</td>\n",
       "      <td>999.000000</td>\n",
       "      <td>0.241016</td>\n",
       "      <td>2.992856</td>\n",
       "      <td>0.283242</td>\n",
       "      <td>3.517201</td>\n",
       "      <td>0.283242</td>\n",
       "      <td>3.517201</td>\n",
       "      <td>0.187521</td>\n",
       "      <td>999.000000</td>\n",
       "      <td>0.211451</td>\n",
       "      <td>999.000000</td>\n",
       "      <td>0.225809</td>\n",
       "      <td>999.000000</td>\n",
       "    </tr>\n",
       "    <tr>\n",
       "      <th>895</th>\n",
       "      <td>3</td>\n",
       "      <td>27.0</td>\n",
       "      <td>0</td>\n",
       "      <td>0</td>\n",
       "      <td>8.6625</td>\n",
       "      <td>0.336809</td>\n",
       "      <td>NaN</td>\n",
       "      <td>0.189092</td>\n",
       "      <td>1.000000</td>\n",
       "      <td>0.000000</td>\n",
       "      <td>1.00</td>\n",
       "      <td>0.00</td>\n",
       "      <td>1.0</td>\n",
       "      <td>0.0</td>\n",
       "      <td>5.0</td>\n",
       "      <td>0.026253</td>\n",
       "      <td>999.000000</td>\n",
       "      <td>0.999962</td>\n",
       "      <td>999.000000</td>\n",
       "      <td>0.026723</td>\n",
       "      <td>1.017851</td>\n",
       "      <td>0.028636</td>\n",
       "      <td>1.090723</td>\n",
       "      <td>0.028636</td>\n",
       "      <td>1.090723</td>\n",
       "      <td>0.026506</td>\n",
       "      <td>999.000000</td>\n",
       "      <td>0.027038</td>\n",
       "      <td>999.000000</td>\n",
       "      <td>0.027358</td>\n",
       "      <td>999.000000</td>\n",
       "    </tr>\n",
       "    <tr>\n",
       "      <th>896</th>\n",
       "      <td>3</td>\n",
       "      <td>22.0</td>\n",
       "      <td>1</td>\n",
       "      <td>1</td>\n",
       "      <td>12.2875</td>\n",
       "      <td>0.336809</td>\n",
       "      <td>NaN</td>\n",
       "      <td>0.741332</td>\n",
       "      <td>0.666667</td>\n",
       "      <td>0.333333</td>\n",
       "      <td>0.50</td>\n",
       "      <td>0.50</td>\n",
       "      <td>0.4</td>\n",
       "      <td>0.6</td>\n",
       "      <td>1.0</td>\n",
       "      <td>0.046749</td>\n",
       "      <td>0.176721</td>\n",
       "      <td>0.999979</td>\n",
       "      <td>3.780120</td>\n",
       "      <td>0.183111</td>\n",
       "      <td>3.916812</td>\n",
       "      <td>0.247558</td>\n",
       "      <td>5.295360</td>\n",
       "      <td>0.281799</td>\n",
       "      <td>6.027782</td>\n",
       "      <td>0.114930</td>\n",
       "      <td>0.176721</td>\n",
       "      <td>0.114930</td>\n",
       "      <td>0.212139</td>\n",
       "      <td>0.114930</td>\n",
       "      <td>0.235359</td>\n",
       "    </tr>\n",
       "  </tbody>\n",
       "</table>\n",
       "</div>"
      ],
      "text/plain": [
       "             Pclass   Age  SibSp  Parch     Fare  Embarked_me_cv  \\\n",
       "PassengerId                                                        \n",
       "892               3  34.5      0      0   7.8292        0.392867   \n",
       "893               3  47.0      1      0   7.0000        0.336809   \n",
       "894               2  62.0      0      0   9.6875        0.392867   \n",
       "895               3  27.0      0      0   8.6625        0.336809   \n",
       "896               3  22.0      1      1  12.2875        0.336809   \n",
       "\n",
       "             Cabin1_me_cv  Sex_me_cv  3NN_Class0  3NN_Class1  4NN_Class0  \\\n",
       "PassengerId                                                                \n",
       "892                   NaN   0.189092    1.000000    0.000000        1.00   \n",
       "893                   NaN   0.741332    1.000000    0.000000        0.75   \n",
       "894                   NaN   0.189092    1.000000    0.000000        1.00   \n",
       "895                   NaN   0.189092    1.000000    0.000000        1.00   \n",
       "896                   NaN   0.741332    0.666667    0.333333        0.50   \n",
       "\n",
       "             4NN_Class1  5NN_Class0  5NN_Class1  Same_Label_Streak  \\\n",
       "PassengerId                                                          \n",
       "892                0.00         1.0         0.0                5.0   \n",
       "893                0.25         0.6         0.4                3.0   \n",
       "894                0.00         1.0         0.0                5.0   \n",
       "895                0.00         1.0         0.0                5.0   \n",
       "896                0.50         0.4         0.6                1.0   \n",
       "\n",
       "             Class0_Min_Dist  Class1_Min_Dist  Norm_Class0_Min_Dist  \\\n",
       "PassengerId                                                           \n",
       "892                 0.024066       999.000000              0.999958   \n",
       "893                 0.060097         0.184585              0.999983   \n",
       "894                 0.080530       999.000000              0.999988   \n",
       "895                 0.026253       999.000000              0.999962   \n",
       "896                 0.046749         0.176721              0.999979   \n",
       "\n",
       "             Norm_Class1_Min_Dist  Dist_to_Neighbor_3  \\\n",
       "PassengerId                                             \n",
       "892                    999.000000            0.136093   \n",
       "893                      3.071384            0.152251   \n",
       "894                    999.000000            0.241016   \n",
       "895                    999.000000            0.026723   \n",
       "896                      3.780120            0.183111   \n",
       "\n",
       "             Norm_Dist_to_Neighbor_3  Dist_to_Neighbor_4  \\\n",
       "PassengerId                                                \n",
       "892                         5.654829            0.211221   \n",
       "893                         2.533369            0.184585   \n",
       "894                         2.992856            0.283242   \n",
       "895                         1.017851            0.028636   \n",
       "896                         3.916812            0.247558   \n",
       "\n",
       "             Norm_Dist_to_Neighbor_4  Dist_to_Neighbor_5  \\\n",
       "PassengerId                                                \n",
       "892                         8.776492            0.211221   \n",
       "893                         3.071384            0.222206   \n",
       "894                         3.517201            0.283242   \n",
       "895                         1.090723            0.028636   \n",
       "896                         5.295360            0.281799   \n",
       "\n",
       "             Norm_Dist_to_Neighbor_5  3NN_Class0_Mean_Dist  \\\n",
       "PassengerId                                                  \n",
       "892                         8.776492              0.098751   \n",
       "893                         3.697384              0.096330   \n",
       "894                         3.517201              0.187521   \n",
       "895                         1.090723              0.026506   \n",
       "896                         6.027782              0.114930   \n",
       "\n",
       "             3NN_Class1_Mean_Dist  4NN_Class0_Mean_Dist  4NN_Class1_Mean_Dist  \\\n",
       "PassengerId                                                                     \n",
       "892                    999.000000              0.126868            999.000000   \n",
       "893                    999.000000              0.096330              0.184585   \n",
       "894                    999.000000              0.211451            999.000000   \n",
       "895                    999.000000              0.027038            999.000000   \n",
       "896                      0.176721              0.114930              0.212139   \n",
       "\n",
       "             5NN_Class0_Mean_Dist  5NN_Class1_Mean_Dist  \n",
       "PassengerId                                              \n",
       "892                      0.143739            999.000000  \n",
       "893                      0.096330              0.203395  \n",
       "894                      0.225809            999.000000  \n",
       "895                      0.027358            999.000000  \n",
       "896                      0.114930              0.235359  "
      ]
     },
     "execution_count": 327,
     "metadata": {},
     "output_type": "execute_result"
    }
   ],
   "source": [
    "X_test_MeanEnc_KnnFeats.head()"
   ]
  },
  {
   "cell_type": "code",
   "execution_count": 328,
   "metadata": {},
   "outputs": [],
   "source": [
    "y_test_hat = random_tree.best_estimator_.predict(X_test_MeanEnc_KnnFeats)"
   ]
  },
  {
   "cell_type": "code",
   "execution_count": 329,
   "metadata": {},
   "outputs": [],
   "source": [
    "y_test_output = pd.Series(y_test_hat, index=test.index, name = 'Survived')\n",
    "pd.DataFrame(y_test_output).to_csv('Titanic_3_feat_gen_pred.csv')"
   ]
  },
  {
   "cell_type": "code",
   "execution_count": 331,
   "metadata": {},
   "outputs": [
    {
     "data": {
      "text/plain": [
       "array([1, 1, 1, 1, 1, 1, 1, 1, 1, 1, 1, 1, 1, 1, 1, 1, 1, 1, 1, 1, 1, 1,\n",
       "       1, 1, 1, 1, 1, 1, 1, 1, 1, 1, 1, 1, 1, 1, 1, 1, 1, 1, 1, 1, 1, 1,\n",
       "       1, 1, 1, 1, 1, 1, 1, 1, 1, 1, 1, 1, 1, 1, 1, 1, 1, 1, 1, 1, 1, 1,\n",
       "       1, 1, 1, 1, 1, 1, 1, 1, 1, 1, 1, 1, 1, 1, 1, 1, 1, 1, 1, 1, 1, 1,\n",
       "       1, 1, 1, 1, 1, 1, 1, 1, 1, 1, 1, 1, 1, 1, 1, 1, 1, 1, 1, 1, 1, 1,\n",
       "       1, 1, 1, 1, 1, 1, 1, 1, 1, 1, 1, 1, 1, 1, 1, 1, 1, 1, 1, 1, 1, 1,\n",
       "       1, 1, 1, 1, 1, 1, 1, 1, 1, 1, 1, 1, 1, 1, 1, 1, 1, 1, 1, 1, 1, 1,\n",
       "       1, 1, 1, 1, 1, 1, 1, 1, 1, 1, 1, 1, 1, 1, 1, 1, 1, 1, 1, 1, 1, 1,\n",
       "       1, 1, 1, 1, 1, 1, 1, 1, 1, 1, 1, 1, 1, 1, 1, 1, 1, 1, 1, 1, 1, 1,\n",
       "       1, 1, 1, 1, 1, 1, 1, 1, 1, 1, 1, 1, 1, 1, 1, 1, 1, 1, 1, 1, 1, 1,\n",
       "       1, 1, 1, 1, 1, 1, 1, 1, 1, 1, 1, 1, 1, 1, 1, 1, 1, 1, 1, 1, 1, 1,\n",
       "       1, 1, 1, 1, 1, 1, 1, 1, 1, 1, 1, 1, 1, 1, 1, 1, 1, 1, 1, 1, 1, 1,\n",
       "       1, 1, 1, 1, 1, 1, 1, 1, 1, 1, 1, 1, 1, 1, 1, 1, 1, 1, 1, 1, 1, 1,\n",
       "       1, 1, 1, 1, 1, 1, 1, 1, 1, 1, 1, 1, 1, 1, 1, 1, 1, 1, 1, 1, 1, 1,\n",
       "       1, 1, 1, 1, 1, 1, 1, 1, 1, 1, 1, 1, 1, 1, 1, 1, 1, 1, 1, 1, 1, 1,\n",
       "       1, 1, 1, 1, 1, 1, 1, 1, 1, 1, 1, 1, 1, 1, 1, 1, 1, 1, 1, 1, 1, 1,\n",
       "       1, 1, 1, 1, 1, 1, 1, 1, 1, 1, 1, 1, 1, 1, 1, 1, 1, 1, 1, 1, 1, 1,\n",
       "       1, 1, 1, 1, 1, 1, 1, 1, 1, 1, 1, 1, 1, 1, 1, 1, 1, 1, 1, 1, 1, 1,\n",
       "       1, 1, 1, 1, 1, 1, 1, 1, 1, 1, 1, 1, 1, 1, 1, 1, 1, 1, 1, 1, 1, 1],\n",
       "      dtype=int64)"
      ]
     },
     "execution_count": 331,
     "metadata": {},
     "output_type": "execute_result"
    }
   ],
   "source": [
    "y_test_hat"
   ]
  },
  {
   "cell_type": "markdown",
   "metadata": {},
   "source": [
    "apparently the model doesn't work due to knn features drastically overfitting"
   ]
  },
  {
   "cell_type": "code",
   "execution_count": null,
   "metadata": {},
   "outputs": [],
   "source": []
  }
 ],
 "metadata": {
  "kernelspec": {
   "display_name": "Python 3",
   "language": "python",
   "name": "python3"
  },
  "language_info": {
   "codemirror_mode": {
    "name": "ipython",
    "version": 3
   },
   "file_extension": ".py",
   "mimetype": "text/x-python",
   "name": "python",
   "nbconvert_exporter": "python",
   "pygments_lexer": "ipython3",
   "version": "3.7.6"
  }
 },
 "nbformat": 4,
 "nbformat_minor": 4
}
